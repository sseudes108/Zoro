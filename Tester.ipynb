{
 "cells": [
  {
   "cell_type": "code",
   "execution_count": null,
   "id": "a7b0c260",
   "metadata": {},
   "outputs": [],
   "source": [
    "import pandas as pd\n",
    "import numpy as np\n",
    "import xgboost as xgb\n",
    "from sklearn.model_selection import train_test_split\n",
    "from sklearn.metrics import accuracy_score, roc_auc_score\n",
    "import matplotlib.pyplot as plt"
   ]
  },
  {
   "cell_type": "code",
   "execution_count": null,
   "id": "c9569cfe",
   "metadata": {},
   "outputs": [],
   "source": [
    "# --- PARTE 1: GERAR A BASE DE DADOS FICTÍCIA ---\n",
    "\n",
    "print(\"--- Gerando base de dados histórica fictícia ---\")\n",
    "\n",
    "# Número de amostras na nossa base de dados\n",
    "num_amostras = 10000\n",
    "\n",
    "# Dicionário para criar as colunas do nosso DataFrame\n",
    "dados = {\n",
    "    'id_cliente': range(1, num_amostras + 1),\n",
    "    'valor_divida_mil': np.random.lognormal(mean=3.5, sigma=1.5, size=num_amostras).round(2),\n",
    "    'tempo_inadimplencia_dias': np.random.randint(30, 1800, size=num_amostras),\n",
    "    'porte_cliente': np.random.choice(['Pequeno', 'Médio', 'Grande'], size=num_amostras, p=[0.5, 0.4, 0.1]),\n",
    "    'ramo_atuacao_cliente': np.random.choice(['Produtor', 'Cooperativa', 'Distribuidor', 'Indústria'], size=num_amostras, p=[0.4, 0.3, 0.2, 0.1]),\n",
    "    'score_risco_interno': np.random.choice(['A', 'B', 'C', 'D', 'F'], size=num_amostras, p=[0.1, 0.2, 0.4, 0.2, 0.1]),\n",
    "    'regiao': np.random.choice(['Sul', 'Sudeste', 'Centro-Oeste', 'Nordeste', 'Norte'], size=num_amostras, p=[0.3, 0.3, 0.2, 0.1, 0.1])\n",
    "}\n",
    "\n",
    "df = pd.DataFrame(dados)\n",
    "\n",
    "# --- Lógica para criar a variável-alvo (status_final_pago) ---\n",
    "# Aqui está a \"mágica\": criamos uma probabilidade de pagamento baseada nas outras features.\n",
    "# Isso garante que existam padrões a serem aprendidos.\n",
    "\n",
    "# 1. Começamos com uma probabilidade base\n",
    "prob_base = 0.5\n",
    "\n",
    "# 2. Ajustamos a probabilidade com base nas regras de negócio\n",
    "# Dívidas maiores e mais antigas são mais difíceis de cobrar\n",
    "prob_base -= df['valor_divida_mil'] * 0.001\n",
    "prob_base -= df['tempo_inadimplencia_dias'] * 0.0002\n",
    "\n",
    "# Clientes maiores e com score melhor tendem a pagar mais\n",
    "porte_map = {'Pequeno': -0.1, 'Médio': 0.05, 'Grande': 0.2}\n",
    "score_map = {'A': 0.3, 'B': 0.15, 'C': 0.0, 'D': -0.2, 'F': -0.4}\n",
    "prob_base += df['porte_cliente'].map(porte_map)\n",
    "prob_base += df['score_risco_interno'].map(score_map)\n",
    "\n",
    "# Adicionamos um pouco de aleatoriedade (ruído) para tornar mais realista\n",
    "ruido = np.random.normal(0, 0.1, size=num_amostras)\n",
    "prob_final = prob_base + ruido\n",
    "\n",
    "# 3. Convertendo a probabilidade final (que pode ser > 1 ou < 0) para uma decisão binária (0 ou 1)\n",
    "# Usamos a função sigmoide para garantir que a probabilidade esteja entre 0 e 1\n",
    "prob_final_sigmoid = 1 / (1 + np.exp(-prob_final))\n",
    "df['status_final_pago'] = (prob_final_sigmoid > np.random.rand(num_amostras)).astype(int)\n",
    "\n",
    "# Salvar em um arquivo CSV para simular o recebimento do arquivo\n",
    "caminho_arquivo = 'dividas_historicas_ficticias.csv'\n",
    "df.to_csv(caminho_arquivo, index=False)\n",
    "\n",
    "print(f\"Base de dados com {num_amostras} clientes criada e salva em '{caminho_arquivo}'\")\n",
    "print(\"Distribuição da variável-alvo:\")\n",
    "print(df['status_final_pago'].value_counts(normalize=True))\n",
    "print(\"\\nPrimeiras 5 linhas da base de dados:\")\n",
    "print(df.head())\n",
    "\n",
    "\n",
    "# --- PARTE 2: TREINAR O MODELO XGBOOST COM A BASE CRIADA ---\n",
    "\n",
    "print(\"\\n\\n--- Treinando o modelo XGBoost com a base gerada ---\")\n",
    "\n",
    "# Carregar os dados (como se você tivesse recebido o arquivo)\n",
    "df_treino = pd.read_csv(caminho_arquivo)\n",
    "\n",
    "# 1. Preparação dos Dados (Pré-processamento)\n",
    "# O XGBoost precisa que as variáveis categóricas (texto) sejam transformadas em números.\n",
    "# Usamos \"One-Hot Encoding\" para isso, que cria colunas binárias para cada categoria.\n",
    "df_treino_encoded = pd.get_dummies(df_treino, columns=['porte_cliente', 'ramo_atuacao_cliente', 'score_risco_interno', 'regiao'])\n",
    "\n",
    "# Separar as features (X) da variável-alvo (y)\n",
    "X = df_treino_encoded.drop(['id_cliente', 'status_final_pago'], axis=1)\n",
    "y = df_treino_encoded['status_final_pago']\n",
    "\n",
    "# 2. Dividir os dados em Treino e Teste\n",
    "X_train, X_test, y_train, y_test = train_test_split(X, y, test_size=0.25, random_state=42, stratify=y)\n",
    "\n",
    "# 3. Treinar o Modelo XGBoost\n",
    "model = xgb.XGBClassifier(objective='binary:logistic', eval_metric='auc', use_label_encoder=False)\n",
    "model.fit(X_train, y_train)\n",
    "\n",
    "# 4. Fazer Predições e Avaliar\n",
    "predictions_proba = model.predict_proba(X_test)[:, 1]\n",
    "predictions_binary = model.predict(X_test)\n",
    "\n",
    "accuracy = accuracy_score(y_test, predictions_binary)\n",
    "auc = roc_auc_score(y_test, predictions_proba)\n",
    "\n",
    "print(f\"\\nAcurácia do modelo no conjunto de teste: {accuracy * 100:.2f}%\")\n",
    "print(f\"AUC do modelo no conjunto de teste: {auc:.4f}\")\n",
    "\n",
    "# 5. Analisar a Importância das Variáveis (Feature Importance)\n",
    "# Isso nos mostra o que o modelo considerou mais importante para tomar a decisão.\n",
    "# É a prova de que ele \"descobriu\" as regras que embutimos na geração dos dados!\n",
    "print(\"\\nImportância das variáveis (o que o modelo aprendeu):\")\n",
    "feature_importances = pd.DataFrame({'feature': X.columns, 'importance': model.feature_importances_})\n",
    "print(feature_importances.sort_values(by='importance', ascending=False).head(10))\n",
    "\n",
    "# Plotar a importância das features para melhor visualização\n",
    "fig, ax = plt.subplots(figsize=(10, 8))\n",
    "xgb.plot_importance(model, ax=ax, max_num_features=15)\n",
    "plt.title('Top 15 Variáveis Mais Importantes')\n",
    "plt.show()"
   ]
  },
  {
   "cell_type": "code",
   "execution_count": null,
   "id": "c1f7122a",
   "metadata": {},
   "outputs": [],
   "source": [
    "import pandas as pd\n",
    "import numpy as np\n",
    "import xgboost as xgb\n",
    "from sklearn.model_selection import train_test_split\n",
    "import joblib # Usaremos joblib para salvar e carregar o modelo\n",
    "\n",
    "# --- ETAPA 1: SIMULAR O CENÁRIO PASSADO (TREINAMENTO DO MODELO) ---\n",
    "# Esta parte gera a base histórica e treina o modelo, como fizemos antes.\n",
    "\n",
    "print(\"--- ETAPA 1: Treinando o modelo com dados históricos ---\")\n",
    "\n",
    "# Gerar a base de dados histórica fictícia\n",
    "num_amostras_treino = 10000\n",
    "dados_treino = {\n",
    "    'id_cliente': range(1, num_amostras_treino + 1),\n",
    "    'valor_divida_mil': np.random.lognormal(mean=3.5, sigma=1.5, size=num_amostras_treino).round(2),\n",
    "    'tempo_inadimplencia_dias': np.random.randint(30, 1800, size=num_amostras_treino),\n",
    "    'porte_cliente': np.random.choice(['Pequeno', 'Médio', 'Grande'], size=num_amostras_treino, p=[0.5, 0.4, 0.1]),\n",
    "    'ramo_atuacao_cliente': np.random.choice(['Produtor', 'Cooperativa', 'Distribuidor', 'Indústria'], size=num_amostras_treino, p=[0.4, 0.3, 0.2, 0.1]),\n",
    "    'score_risco_interno': np.random.choice(['A', 'B', 'C', 'D', 'F'], size=num_amostras_treino, p=[0.1, 0.2, 0.4, 0.2, 0.1]),\n",
    "    'regiao': np.random.choice(['Sul', 'Sudeste', 'Centro-Oeste', 'Nordeste', 'Norte'], size=num_amostras_treino, p=[0.3, 0.3, 0.2, 0.1, 0.1])\n",
    "}\n",
    "df_treino = pd.DataFrame(dados_treino)\n",
    "prob_base = 0.5 - df_treino['valor_divida_mil'] * 0.001 - df_treino['tempo_inadimplencia_dias'] * 0.0002\n",
    "porte_map = {'Pequeno': -0.1, 'Médio': 0.05, 'Grande': 0.2}\n",
    "score_map = {'A': 0.3, 'B': 0.15, 'C': 0.0, 'D': -0.2, 'F': -0.4}\n",
    "prob_base += df_treino['porte_cliente'].map(porte_map) + df_treino['score_risco_interno'].map(score_map)\n",
    "prob_final_sigmoid = 1 / (1 + np.exp(-(prob_base + np.random.normal(0, 0.1, size=num_amostras_treino))))\n",
    "df_treino['status_final_pago'] = (prob_final_sigmoid > np.random.rand(num_amostras_treino)).astype(int)\n",
    "\n",
    "# Pré-processamento e Treinamento\n",
    "df_treino_encoded = pd.get_dummies(df_treino, columns=['porte_cliente', 'ramo_atuacao_cliente', 'score_risco_interno', 'regiao'])\n",
    "X_train = df_treino_encoded.drop(['id_cliente', 'status_final_pago'], axis=1)\n",
    "y_train = df_treino_encoded['status_final_pago']\n",
    "model = xgb.XGBClassifier(objective='binary:logistic', eval_metric='auc', use_label_encoder=False)\n",
    "model.fit(X_train, y_train)\n",
    "\n",
    "# Salvar o modelo treinado (o \"manual de instruções\")\n",
    "caminho_modelo = 'modelo_score_recuperacao_v1.pkl'\n",
    "joblib.dump(model, caminho_modelo)\n",
    "print(f\"Modelo treinado e salvo em '{caminho_modelo}'\")\n",
    "\n",
    "\n",
    "# --- ETAPA 2: SIMULAR A NOVA CARTEIRA E FAZER A PONTUAÇÃO (SCORING) ---\n",
    "\n",
    "print(\"\\n\\n--- ETAPA 2: Gerando e avaliando a nova carteira de prospects ---\")\n",
    "\n",
    "# Gerar a nova base de dados para avaliação (prospects)\n",
    "num_prospects = 2000\n",
    "dados_prospects = {\n",
    "    'id_cliente': range(20001, 20001 + num_prospects), # IDs diferentes para não confundir\n",
    "    'valor_divida_mil': np.random.lognormal(mean=3.8, sigma=1.6, size=num_prospects).round(2), # Simula uma carteira ligeiramente diferente\n",
    "    'tempo_inadimplencia_dias': np.random.randint(90, 1500, size=num_prospects),\n",
    "    'porte_cliente': np.random.choice(['Pequeno', 'Médio', 'Grande'], size=num_prospects, p=[0.6, 0.3, 0.1]),\n",
    "    'ramo_atuacao_cliente': np.random.choice(['Produtor', 'Cooperativa', 'Distribuidor', 'Indústria'], size=num_prospects, p=[0.5, 0.2, 0.2, 0.1]),\n",
    "    'score_risco_interno': np.random.choice(['A', 'B', 'C', 'D', 'F'], size=num_prospects, p=[0.05, 0.15, 0.5, 0.2, 0.1]),\n",
    "    'regiao': np.random.choice(['Sul', 'Sudeste', 'Centro-Oeste', 'Nordeste', 'Norte'], size=num_prospects, p=[0.2, 0.4, 0.25, 0.1, 0.05])\n",
    "}\n",
    "df_prospects = pd.DataFrame(dados_prospects)\n",
    "\n",
    "# Salvar a carteira de prospects em um CSV\n",
    "caminho_prospects = 'prospects_para_avaliar.csv'\n",
    "df_prospects.to_csv(caminho_prospects, index=False)\n",
    "print(f\"Nova carteira com {num_prospects} prospects gerada e salva em '{caminho_prospects}'\")\n",
    "\n",
    "# Carregar o modelo que acabamos de salvar\n",
    "modelo_carregado = joblib.load(caminho_modelo)\n",
    "\n",
    "# Pré-processar os dados dos prospects EXATAMENTE da mesma forma que os dados de treino\n",
    "df_prospects_encoded = pd.get_dummies(df_prospects, columns=['porte_cliente', 'ramo_atuacao_cliente', 'score_risco_interno', 'regiao'])\n",
    "X_prospects = df_prospects_encoded.drop('id_cliente', axis=1)\n",
    "\n",
    "# PONTO CRÍTICO: Garantir que as colunas da base de prospects sejam as mesmas da base de treino\n",
    "# Se um prospect não tiver uma categoria que existia no treino (ex: nenhum da região 'Norte'),\n",
    "# essa coluna não seria criada, causando um erro. O código abaixo alinha as colunas.\n",
    "X_prospects_aligned = X_prospects.reindex(columns=X_train.columns, fill_value=0)\n",
    "\n",
    "# Fazer a predição de probabilidade (o Score!)\n",
    "scores_recuperacao = modelo_carregado.predict_proba(X_prospects_aligned)[:, 1]\n",
    "\n",
    "# Adicionar os scores calculados à nossa base de prospects\n",
    "df_prospects['score_recuperacao'] = scores_recuperacao\n",
    "\n",
    "# --- ETAPA 3: ANALISAR O RESULTADO ---\n",
    "\n",
    "print(\"\\n\\n--- ETAPA 3: Resultado da Análise da Carteira ---\")\n",
    "\n",
    "# Ordenar a carteira do maior para o menor score\n",
    "df_resultado_final = df_prospects.sort_values(by='score_recuperacao', ascending=False)\n",
    "\n",
    "print(\"\\n--- Top 10 Prospects com MAIOR Chance de Recuperação ---\")\n",
    "print(df_resultado_final.head(10))\n",
    "\n",
    "print(\"\\n--- Top 10 Prospects com MENOR Chance de Recuperação ---\")\n",
    "print(df_resultado_final.tail(10))\n",
    "\n",
    "# Calcular o Valor Esperado da carteira (soma das probabilidades x valor da dívida)\n",
    "valor_esperado_total = (df_resultado_final['score_recuperacao'] * (df_resultado_final['valor_divida_mil'] * 1000)).sum()\n",
    "df_resultado_final.to_csv(\"final.csv\")\n",
    "\n",
    "print(f\"\\n\\nVALOR ESPERADO TOTAL DE RECUPERAÇÃO DA CARTEIRA: R$ {valor_esperado_total:,.2f}\")"
   ]
  },
  {
   "cell_type": "code",
   "execution_count": null,
   "id": "feb77189",
   "metadata": {},
   "outputs": [],
   "source": [
    "import pandas as pd\n",
    "import numpy as np\n",
    "import xgboost as xgb\n",
    "from sklearn.model_selection import train_test_split\n",
    "import joblib # Usaremos joblib para salvar e carregar o modelo\n",
    "\n",
    "# --- ETAPA 1: SIMULAR O CENÁRIO PASSADO (TREINAMENTO DO MODELO) ---\n",
    "# Esta parte gera a base histórica e treina o modelo, como fizemos antes.\n",
    "\n",
    "print(\"--- ETAPA 1: Treinando o modelo com dados históricos ---\")\n",
    "\n",
    "# Gerar a base de dados histórica fictícia\n",
    "num_amostras_treino = 10000\n",
    "dados_treino = {\n",
    "    'id_cliente': range(1, num_amostras_treino + 1),\n",
    "    'valor_divida_mil': np.random.lognormal(mean=3.5, sigma=1.5, size=num_amostras_treino).round(2),\n",
    "    'tempo_inadimplencia_dias': np.random.randint(30, 1800, size=num_amostras_treino),\n",
    "    'porte_cliente': np.random.choice(['Pequeno', 'Médio', 'Grande'], size=num_amostras_treino, p=[0.5, 0.4, 0.1]),\n",
    "    'ramo_atuacao_cliente': np.random.choice(['Produtor', 'Cooperativa', 'Distribuidor', 'Indústria'], size=num_amostras_treino, p=[0.4, 0.3, 0.2, 0.1]),\n",
    "    'score_risco_interno': np.random.choice(['A', 'B', 'C', 'D', 'F'], size=num_amostras_treino, p=[0.1, 0.2, 0.4, 0.2, 0.1]),\n",
    "    'regiao': np.random.choice(['Sul', 'Sudeste', 'Centro-Oeste', 'Nordeste', 'Norte'], size=num_amostras_treino, p=[0.3, 0.3, 0.2, 0.1, 0.1])\n",
    "}\n",
    "df_treino = pd.DataFrame(dados_treino)\n",
    "prob_base = 0.5 - df_treino['valor_divida_mil'] * 0.001 - df_treino['tempo_inadimplencia_dias'] * 0.0002\n",
    "porte_map = {'Pequeno': -0.1, 'Médio': 0.05, 'Grande': 0.2}\n",
    "score_map = {'A': 0.3, 'B': 0.15, 'C': 0.0, 'D': -0.2, 'F': -0.4}\n",
    "prob_base += df_treino['porte_cliente'].map(porte_map) + df_treino['score_risco_interno'].map(score_map)\n",
    "prob_final_sigmoid = 1 / (1 + np.exp(-(prob_base + np.random.normal(0, 0.1, size=num_amostras_treino))))\n",
    "df_treino['status_final_pago'] = (prob_final_sigmoid > np.random.rand(num_amostras_treino)).astype(int)\n",
    "\n",
    "# Pré-processamento e Treinamento\n",
    "df_treino_encoded = pd.get_dummies(df_treino, columns=['porte_cliente', 'ramo_atuacao_cliente', 'score_risco_interno', 'regiao'])\n",
    "X_train = df_treino_encoded.drop(['id_cliente', 'status_final_pago'], axis=1)\n",
    "y_train = df_treino_encoded['status_final_pago']\n",
    "model = xgb.XGBClassifier(objective='binary:logistic', eval_metric='auc', use_label_encoder=False)\n",
    "model.fit(X_train, y_train)\n",
    "\n",
    "artefatos_modelo = {\n",
    "    'model': model,\n",
    "    'columns': X_train.columns.tolist() # Salvamos a lista de nomes das colunas\n",
    "}\n",
    "\n",
    "# Salvar o dicionário (os \"artefatos\") em um único arquivo\n",
    "caminho_modelo = 'modelo_score_recuperacao_with_columns_v1.pkl'\n",
    "joblib.dump(artefatos_modelo, caminho_modelo) # Agora salvamos o dicionário\n",
    "\n",
    "print(f\"Artefatos do modelo (modelo + colunas) salvos em '{caminho_modelo}'\")"
   ]
  },
  {
   "cell_type": "code",
   "execution_count": 1,
   "id": "42aef187",
   "metadata": {},
   "outputs": [
    {
     "name": "stdout",
     "output_type": "stream",
     "text": [
      "Formato dos dados após pré-processamento: (2000, 19)\n",
      "Amostra dos dados prontos para o PCA:\n",
      "   valor_divida_mil  tempo_inadimplencia_dias  porte_cliente_Grande  \\\n",
      "0         -0.259533                  0.745284                 False   \n",
      "1         -0.156550                  0.075281                 False   \n",
      "2          0.113582                  1.572508                 False   \n",
      "3          0.559595                  0.532431                 False   \n",
      "4         -0.330734                  0.370373                 False   \n",
      "\n",
      "   porte_cliente_Médio  porte_cliente_Pequeno  \\\n",
      "0                False                   True   \n",
      "1                False                   True   \n",
      "2                False                   True   \n",
      "3                 True                  False   \n",
      "4                False                   True   \n",
      "\n",
      "   ramo_atuacao_cliente_Cooperativa  ramo_atuacao_cliente_Distribuidor  \\\n",
      "0                             False                              False   \n",
      "1                             False                              False   \n",
      "2                              True                              False   \n",
      "3                              True                              False   \n",
      "4                             False                               True   \n",
      "\n",
      "   ramo_atuacao_cliente_Indústria  ramo_atuacao_cliente_Produtor  \\\n",
      "0                           False                           True   \n",
      "1                           False                           True   \n",
      "2                           False                          False   \n",
      "3                           False                          False   \n",
      "4                           False                          False   \n",
      "\n",
      "   score_risco_interno_A  score_risco_interno_B  score_risco_interno_C  \\\n",
      "0                  False                  False                   True   \n",
      "1                  False                   True                  False   \n",
      "2                  False                   True                  False   \n",
      "3                  False                  False                   True   \n",
      "4                  False                  False                   True   \n",
      "\n",
      "   score_risco_interno_D  score_risco_interno_F  regiao_Centro-Oeste  \\\n",
      "0                  False                  False                 True   \n",
      "1                  False                  False                False   \n",
      "2                  False                  False                False   \n",
      "3                  False                  False                False   \n",
      "4                  False                  False                False   \n",
      "\n",
      "   regiao_Nordeste  regiao_Norte  regiao_Sudeste  regiao_Sul  \n",
      "0            False         False           False       False  \n",
      "1            False         False            True       False  \n",
      "2            False         False            True       False  \n",
      "3            False         False           False        True  \n",
      "4             True         False           False       False  \n",
      "\n",
      "--- Resultado do PCA ---\n",
      "       PC_1      PC_2      PC_3      PC_4      PC_5      PC_6      PC_7  \\\n",
      "0  0.330369  0.697276  0.484292  0.535521  0.848346 -0.317073 -0.429576   \n",
      "1 -0.055403  0.195432  0.712825  0.253978 -0.716463  0.395650 -0.097431   \n",
      "2  1.147764  1.096145  0.360584 -0.802120 -0.758100 -0.072561 -0.368654   \n",
      "3  0.742341 -0.001650 -1.075781 -0.356239  0.535859  0.062842  0.462232   \n",
      "4 -0.012597  0.502079  0.272340 -0.714310  0.532946 -0.371427  0.558168   \n",
      "\n",
      "       PC_8      PC_9     PC_10     PC_11     PC_12     PC_13     PC_14  \\\n",
      "0 -0.246034  0.000530 -0.125831 -0.075802 -0.099347 -0.082052 -0.025033   \n",
      "1 -0.079631 -0.812895 -0.008611  0.103330 -0.396140  0.091118  0.004204   \n",
      "2  0.615935 -0.804536 -0.000950  0.142471 -0.384628 -0.082458 -0.071650   \n",
      "3  1.044845  0.161788 -0.168196 -0.017343 -0.235372 -0.338463 -0.119986   \n",
      "4 -0.491528  0.084119 -0.076768  0.820319  0.472662  0.174596 -0.222349   \n",
      "\n",
      "      PC_15         PC_16         PC_17         PC_18         PC_19  \n",
      "0 -0.015325 -1.110223e-16 -2.220446e-16  0.000000e+00  2.498002e-16  \n",
      "1 -0.094814  1.110223e-16  0.000000e+00  0.000000e+00  0.000000e+00  \n",
      "2 -0.113356  2.220446e-16  0.000000e+00  1.110223e-16 -5.551115e-17  \n",
      "3 -0.044317  0.000000e+00  1.110223e-16  2.220446e-16 -2.498002e-16  \n",
      "4 -0.027130 -2.220446e-16  1.110223e-16 -1.110223e-16  2.775558e-17  \n",
      "\n",
      "Variância explicada por cada componente: [0.221 0.218 0.089 0.075 0.072 0.071 0.049 0.042 0.036 0.028 0.026 0.024\n",
      " 0.023 0.013 0.012 0.    0.    0.    0.   ]\n",
      "Variância acumulada: [0.221 0.439 0.528 0.603 0.676 0.747 0.796 0.838 0.874 0.902 0.927 0.952\n",
      " 0.975 0.988 1.    1.    1.    1.    1.   ]\n",
      "\n",
      "Número de componentes para explicar 95% da variância: 12\n"
     ]
    },
    {
     "data": {
      "application/vnd.plotly.v1+json": {
       "config": {
        "plotlyServerURL": "https://plot.ly"
       },
       "data": [
        {
         "customdata": {
          "bdata": "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",
          "dtype": "f8",
          "shape": "1036, 2"
         },
         "hovertemplate": "score_risco_interno=C<br>PC_1=%{x}<br>PC_2=%{y}<br>id_cliente=%{customdata[0]}<br>valor_divida_mil=%{customdata[1]}<extra></extra>",
         "legendgroup": "C",
         "marker": {
          "color": "#636efa",
          "symbol": "circle"
         },
         "mode": "markers",
         "name": "C",
         "showlegend": true,
         "type": "scattergl",
         "x": {
          "bdata": "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",
          "dtype": "f8"
         },
         "xaxis": "x",
         "y": {
          "bdata": "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",
          "dtype": "f8"
         },
         "yaxis": "y"
        },
        {
         "customdata": {
          "bdata": "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",
          "dtype": "f8",
          "shape": "277, 2"
         },
         "hovertemplate": "score_risco_interno=B<br>PC_1=%{x}<br>PC_2=%{y}<br>id_cliente=%{customdata[0]}<br>valor_divida_mil=%{customdata[1]}<extra></extra>",
         "legendgroup": "B",
         "marker": {
          "color": "#EF553B",
          "symbol": "circle"
         },
         "mode": "markers",
         "name": "B",
         "showlegend": true,
         "type": "scattergl",
         "x": {
          "bdata": "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",
          "dtype": "f8"
         },
         "xaxis": "x",
         "y": {
          "bdata": "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",
          "dtype": "f8"
         },
         "yaxis": "y"
        },
        {
         "customdata": {
          "bdata": "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",
          "dtype": "f8",
          "shape": "391, 2"
         },
         "hovertemplate": "score_risco_interno=D<br>PC_1=%{x}<br>PC_2=%{y}<br>id_cliente=%{customdata[0]}<br>valor_divida_mil=%{customdata[1]}<extra></extra>",
         "legendgroup": "D",
         "marker": {
          "color": "#00cc96",
          "symbol": "circle"
         },
         "mode": "markers",
         "name": "D",
         "showlegend": true,
         "type": "scattergl",
         "x": {
          "bdata": "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",
          "dtype": "f8"
         },
         "xaxis": "x",
         "y": {
          "bdata": "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",
          "dtype": "f8"
         },
         "yaxis": "y"
        },
        {
         "customdata": {
          "bdata": "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",
          "dtype": "f8",
          "shape": "201, 2"
         },
         "hovertemplate": "score_risco_interno=F<br>PC_1=%{x}<br>PC_2=%{y}<br>id_cliente=%{customdata[0]}<br>valor_divida_mil=%{customdata[1]}<extra></extra>",
         "legendgroup": "F",
         "marker": {
          "color": "#ab63fa",
          "symbol": "circle"
         },
         "mode": "markers",
         "name": "F",
         "showlegend": true,
         "type": "scattergl",
         "x": {
          "bdata": "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",
          "dtype": "f8"
         },
         "xaxis": "x",
         "y": {
          "bdata": "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",
          "dtype": "f8"
         },
         "yaxis": "y"
        },
        {
         "customdata": {
          "bdata": "AAAAAECX00AAAAAAAIAqQAAAAABAmtNArkfhehQeUUAAAAAAwJrTQEjhehSud2ZAAAAAAACc00BxPQrXozBFQAAAAACAptNAFK5H4XpUXkAAAAAAAKvTQI/C9ShcwYBAAAAAAAC200CuR+F6tErFQAAAAABAudNAhetRuB6FKEAAAAAAALzTQOxRuB6Fq0VAAAAAAMC/00DXo3A9CndCQAAAAABAxNNAFK5H4XpEXkAAAAAAwMbTQFyPwvUo3DdAAAAAAIDK00B7FK5H4TpEQAAAAABAzdNArkfhehSadkAAAAAAAM7TQEjhehSuZ0ZAAAAAAIDO00Bcj8L1KNxnQAAAAADA19NAKVyPwvUoQkAAAAAAwNjTQFK4HoXrAVVAAAAAAADb00DhehSuR+ExQAAAAABA3tNAzczMzMw1mUAAAAAAAOTTQHsUrkfhujVAAAAAAIDn00CPwvUoXI8VQAAAAADA7dNAuB6F61H4OkAAAAAAgPPTQHsUrkfheghAAAAAAMD700DNzMzMzEw+QAAAAACAB9RAexSuR+FskEAAAAAAgArUQDMzMzMzE1pAAAAAAAAL1EDD9Shcj0IrQAAAAADAFNRAZmZmZmZmAkAAAAAAQBjUQB+F61G4vmhAAAAAAIAY1ECF61G4HqeAQAAAAACAGdRAH4XrUbgeJUAAAAAAwCnUQFK4HoXrsUBAAAAAAAAs1EB7FK5H4TpfQAAAAABAMNRAcT0K16P4Y0AAAAAAADXUQDMzMzMz809AAAAAAMA21EBI4XoUrkcLQAAAAADAPdRA16NwPQoHU0AAAAAAgETUQIXrUbgeBUBAAAAAAEBX1EBmZmZmZnJyQAAAAAAAYtRAAAAAAAAAE0AAAAAAwG7UQLgehetReDxAAAAAAIB61EDsUbgehesHQAAAAAAAf9RArkfhehQuQUAAAAAAQH/UQKRwPQrXY0hAAAAAAMCE1EApXI/C9QhIQAAAAACAhdRACtejcD2qQEAAAAAAwIfUQLgehetRuEFAAAAAAMCN1ECF61G4HgUzQAAAAAAAjtRASOF6FK56lEAAAAAAwI7UQMP1KFyPIkpAAAAAAICS1EC4HoXrUUeSQAAAAADAktRAuB6F61G4GUAAAAAAwKjUQKRwPQrXYzZAAAAAAMCp1ED2KFyPwjVAQAAAAADAqtRAH4XrUbh+UUAAAAAAALXUQI/C9ShcD0NAAAAAAAC51ECamZmZmZkgQAAAAABAwtRAw/UoXI8ibkAAAAAAQMnUQPYoXI/C9RFAAAAAAMDL1EDNzMzMzAwxQAAAAABAz9RA4XoUrkdhMUAAAAAAgNPUQEjhehSuL25AAAAAAMDW1EBcj8L1KBw3QAAAAAAA6NRAAAAAAABAMUAAAAAAgO/UQGZmZmbmX6BAAAAAAADz1EDhehSuR+EXQAAAAADA9tRAPQrXo3ApgUAAAAAAQPjUQFK4HoXrUQ5AAAAAAID71EApXI/C9agvQAAAAADA/tRACtejcD1yb0AAAAAAwP/UQLgehetRuDdAAAAAAMAE1UAzMzMzM7MsQAAAAACACtVAj8L1KFwPK0AAAAAAwBHVQLgehetROENAAAAAAAAS1UAAAAAAAAAGQAAAAABAEtVA4XoUrkcRUkAAAAAAABPVQOF6FK5HGWNAAAAAAMAd1UC4HoXrUex9QAAAAABAH9VAexSuR+E6OUAAAAAAgCTVQHsUrkfheiVAAAAAAMAk1UC4HoXrUVR7QAAAAACAJ9VAhetRuB6lYEAAAAAAQCvVQKRwPQrXW2JAAAAAAMAw1UC4HoXrUdhFQAAAAAAAOtVAPQrXo3CpekAAAAAAAE/VQPYoXI/CBVBAAAAAAMBT1UA9CtejcFmDQAAAAABAVNVArkfhehSOTEAAAAAAAGbVQHsUrkfhOk5AAAAAAMBr1UCuR+F6FE5TQAAAAAAAcdVAKVyPwvWoNUAAAAAAQHXVQKRwPQrX53lAAAAAAIB11UDNzMzMzGxLQAAAAABAetVAMzMzMzNTRUA=",
          "dtype": "f8",
          "shape": "95, 2"
         },
         "hovertemplate": "score_risco_interno=A<br>PC_1=%{x}<br>PC_2=%{y}<br>id_cliente=%{customdata[0]}<br>valor_divida_mil=%{customdata[1]}<extra></extra>",
         "legendgroup": "A",
         "marker": {
          "color": "#FFA15A",
          "symbol": "circle"
         },
         "mode": "markers",
         "name": "A",
         "showlegend": true,
         "type": "scattergl",
         "x": {
          "bdata": "7t6m21NRj79bfewiREnhP+sRcCYoNNI/DrHTyKkW4D9j+urKyLPIv0F/F9iYPNc/Yrkxxa2cM0CDsQx/4rLVP+EM3IdkCO6/3s3PWD5s8L+gGcR5ZtzgP+g21f0/Pdi/L8yymiOA67/OL+aFQKL5P/mJyWbuFOK/2LRqAJAdxD9RAloNo13UP1UBeh12usq/O4pwezJg87/bA8GPBfIAQL5Wh6+e+7C/tgUvY37C5L8e0TaPYd+gv+lTc8bwI+c/HF9bDoPf4r/T7rZkE7rzP6o9QLCD8OK/aQAQXYnx5T+cYDtNzifkP+V/9rP6b+0/MP/gCR076D8lG/A7whz1vyLt3esBs+I/hDwcPL2dtj+BCRjeuHvTP2Cc0mV04es/hKopgPxN1D/rcABlvxbrv5vTToHV+fG/hxC+bTh1y78HVBcy0jqTP6gHW5qrfdQ/VGkAgBbbtr/btFmGjTrqP/zzYHMVk/K/hOVyMUOw7j/WrWtouZbev1JFpgAlG+E/JcJc3CfwyT/umjn1nUgEQFVWV/tY1e4/Mw2mfelC6j9hZk7I9njlP2MqdlWk2es/BJqU3P+wzL9y5h3Hchvpv3RstZyReOg/x+GcVtMf0z+tEaeg6fPzP9IJsQD5I7I/wLzoXH1qpj9hIruTJxfgP8rrzwJ8Euc/VTYseTco7z8Jvqcq4GTQv37N6RrhqgZAotJHGCRi7T9UTMLMa/PZP3kLjXZ/xNu/JajX4qLU57921q3wbtv1P5IB8ckzAM+/7IsN49shqj9AlHCTYvrKv2V2/Cu6MOk/uq+oZOV/9L9i/E3BelXkPwM8XTEqqOS/BQJgvo/x6j86OQHqPE/yvwAU3T84DuE/4f46aDwq7D8z5kPECxjuvw5ugln+Les/RUnp8gCg7T8NOoeTBmv6P8ySJGXYQ8U/uubByGWQ0z+vtTBog1bjP6w2Rs5agdW/GOxScSKI8D+xnVx7ceXFv02Bgdf0P/U/eQ6qafeW5r9SRkDHSBuGPw==",
          "dtype": "f8"
         },
         "xaxis": "x",
         "y": {
          "bdata": "Ee+LtXyf1T+X1RG9NpnqP2V/tWZv5rA/sr1Zl0Nb6j9kf7g7R9rOv//ZbshtsfG/02fXVyFiMsAOxmLL4GzrP1w629nk8uW/qxZF7dNa578KS5ajtQHlP7MTJDUJOIs/I5uXy5sD47+MpLj+8qzqPzQqreiDgda/huTqteaInr8fagFUkFDnP8G+VgcO2b6/4GgbM1Sj7L86UOllhV8JwN9zwbez1NU/KuEHfMbm07/EPytU+gzSPxM2YpYor/Q/PYuv7iQ+zb+MoqtJSDAAwHSOrV3NUOG/1BbbXgHR8j/EEX3zu8PxP2AQ6z1wt+Y/YUPnAy5o479UU69Hfenuv8JJEK0B2O0/CVvPUIMAwD/FT3U6p3nQP6z10RLZWvM/+IXCFnv+6T/82qmv1h3mvxpwEqAUvuu/PcfIZH9V67/6ZIo+zxDgP0QLWMzFu+Y/KCOYWt8Y2z+5uCs4hLz0P9Fgej4BHO6/K8lq7ljA9T+jpWTiPL3AvyFR7Eem9O4/ZOOqJRDE4j/APc/UE5X6v7P/F+C2MfY/88c+3bI7B8D7Mk2bZVnzPxeHrl3PL/Y/s3tob6p/vT8FkXGrwgbkv6+l/beEV/M/XC5blbar6D9z5MUTaJbvP59iuoJcB+I/F1R9p87x3z9HGAN4nzPwP37RXE/xZtQ/MPk5ukVO9z8eh2JmW9zFP1roZV+pexDAWkpT6huY9z/nZP/mShXxv2PThy9NFYk/7UYx1jv01r/aNC8FcKHwP3ZFl+jT9MI/PHQ2nZX83T8Sf/VgifbNP7kAGD54yfM/ob2/qqhO7b9h05RkQSHtP0whRNhMPOu/Ci+8UAic179ouGllYp3tv0HV2d5MgvA/C+QZ3eCoxL9X4g3WD1vwvwdx8ZX98uw/IQLpPinm9T/wn3rErCXlPxIzPDa9ZN0/OpBzoQO/979API8h09TtPz5uSRNXRbK/RNK7nKQG9D+Oc1AyuTzIP4W8r2A/Mdw/lpCZmdY84r8YLf5DvTDSPw==",
          "dtype": "f8"
         },
         "yaxis": "y"
        }
       ],
       "layout": {
        "legend": {
         "title": {
          "text": "score_risco_interno"
         },
         "tracegroupgap": 0
        },
        "template": {
         "data": {
          "bar": [
           {
            "error_x": {
             "color": "#2a3f5f"
            },
            "error_y": {
             "color": "#2a3f5f"
            },
            "marker": {
             "line": {
              "color": "#E5ECF6",
              "width": 0.5
             },
             "pattern": {
              "fillmode": "overlay",
              "size": 10,
              "solidity": 0.2
             }
            },
            "type": "bar"
           }
          ],
          "barpolar": [
           {
            "marker": {
             "line": {
              "color": "#E5ECF6",
              "width": 0.5
             },
             "pattern": {
              "fillmode": "overlay",
              "size": 10,
              "solidity": 0.2
             }
            },
            "type": "barpolar"
           }
          ],
          "carpet": [
           {
            "aaxis": {
             "endlinecolor": "#2a3f5f",
             "gridcolor": "white",
             "linecolor": "white",
             "minorgridcolor": "white",
             "startlinecolor": "#2a3f5f"
            },
            "baxis": {
             "endlinecolor": "#2a3f5f",
             "gridcolor": "white",
             "linecolor": "white",
             "minorgridcolor": "white",
             "startlinecolor": "#2a3f5f"
            },
            "type": "carpet"
           }
          ],
          "choropleth": [
           {
            "colorbar": {
             "outlinewidth": 0,
             "ticks": ""
            },
            "type": "choropleth"
           }
          ],
          "contour": [
           {
            "colorbar": {
             "outlinewidth": 0,
             "ticks": ""
            },
            "colorscale": [
             [
              0,
              "#0d0887"
             ],
             [
              0.1111111111111111,
              "#46039f"
             ],
             [
              0.2222222222222222,
              "#7201a8"
             ],
             [
              0.3333333333333333,
              "#9c179e"
             ],
             [
              0.4444444444444444,
              "#bd3786"
             ],
             [
              0.5555555555555556,
              "#d8576b"
             ],
             [
              0.6666666666666666,
              "#ed7953"
             ],
             [
              0.7777777777777778,
              "#fb9f3a"
             ],
             [
              0.8888888888888888,
              "#fdca26"
             ],
             [
              1,
              "#f0f921"
             ]
            ],
            "type": "contour"
           }
          ],
          "contourcarpet": [
           {
            "colorbar": {
             "outlinewidth": 0,
             "ticks": ""
            },
            "type": "contourcarpet"
           }
          ],
          "heatmap": [
           {
            "colorbar": {
             "outlinewidth": 0,
             "ticks": ""
            },
            "colorscale": [
             [
              0,
              "#0d0887"
             ],
             [
              0.1111111111111111,
              "#46039f"
             ],
             [
              0.2222222222222222,
              "#7201a8"
             ],
             [
              0.3333333333333333,
              "#9c179e"
             ],
             [
              0.4444444444444444,
              "#bd3786"
             ],
             [
              0.5555555555555556,
              "#d8576b"
             ],
             [
              0.6666666666666666,
              "#ed7953"
             ],
             [
              0.7777777777777778,
              "#fb9f3a"
             ],
             [
              0.8888888888888888,
              "#fdca26"
             ],
             [
              1,
              "#f0f921"
             ]
            ],
            "type": "heatmap"
           }
          ],
          "histogram": [
           {
            "marker": {
             "pattern": {
              "fillmode": "overlay",
              "size": 10,
              "solidity": 0.2
             }
            },
            "type": "histogram"
           }
          ],
          "histogram2d": [
           {
            "colorbar": {
             "outlinewidth": 0,
             "ticks": ""
            },
            "colorscale": [
             [
              0,
              "#0d0887"
             ],
             [
              0.1111111111111111,
              "#46039f"
             ],
             [
              0.2222222222222222,
              "#7201a8"
             ],
             [
              0.3333333333333333,
              "#9c179e"
             ],
             [
              0.4444444444444444,
              "#bd3786"
             ],
             [
              0.5555555555555556,
              "#d8576b"
             ],
             [
              0.6666666666666666,
              "#ed7953"
             ],
             [
              0.7777777777777778,
              "#fb9f3a"
             ],
             [
              0.8888888888888888,
              "#fdca26"
             ],
             [
              1,
              "#f0f921"
             ]
            ],
            "type": "histogram2d"
           }
          ],
          "histogram2dcontour": [
           {
            "colorbar": {
             "outlinewidth": 0,
             "ticks": ""
            },
            "colorscale": [
             [
              0,
              "#0d0887"
             ],
             [
              0.1111111111111111,
              "#46039f"
             ],
             [
              0.2222222222222222,
              "#7201a8"
             ],
             [
              0.3333333333333333,
              "#9c179e"
             ],
             [
              0.4444444444444444,
              "#bd3786"
             ],
             [
              0.5555555555555556,
              "#d8576b"
             ],
             [
              0.6666666666666666,
              "#ed7953"
             ],
             [
              0.7777777777777778,
              "#fb9f3a"
             ],
             [
              0.8888888888888888,
              "#fdca26"
             ],
             [
              1,
              "#f0f921"
             ]
            ],
            "type": "histogram2dcontour"
           }
          ],
          "mesh3d": [
           {
            "colorbar": {
             "outlinewidth": 0,
             "ticks": ""
            },
            "type": "mesh3d"
           }
          ],
          "parcoords": [
           {
            "line": {
             "colorbar": {
              "outlinewidth": 0,
              "ticks": ""
             }
            },
            "type": "parcoords"
           }
          ],
          "pie": [
           {
            "automargin": true,
            "type": "pie"
           }
          ],
          "scatter": [
           {
            "fillpattern": {
             "fillmode": "overlay",
             "size": 10,
             "solidity": 0.2
            },
            "type": "scatter"
           }
          ],
          "scatter3d": [
           {
            "line": {
             "colorbar": {
              "outlinewidth": 0,
              "ticks": ""
             }
            },
            "marker": {
             "colorbar": {
              "outlinewidth": 0,
              "ticks": ""
             }
            },
            "type": "scatter3d"
           }
          ],
          "scattercarpet": [
           {
            "marker": {
             "colorbar": {
              "outlinewidth": 0,
              "ticks": ""
             }
            },
            "type": "scattercarpet"
           }
          ],
          "scattergeo": [
           {
            "marker": {
             "colorbar": {
              "outlinewidth": 0,
              "ticks": ""
             }
            },
            "type": "scattergeo"
           }
          ],
          "scattergl": [
           {
            "marker": {
             "colorbar": {
              "outlinewidth": 0,
              "ticks": ""
             }
            },
            "type": "scattergl"
           }
          ],
          "scattermap": [
           {
            "marker": {
             "colorbar": {
              "outlinewidth": 0,
              "ticks": ""
             }
            },
            "type": "scattermap"
           }
          ],
          "scattermapbox": [
           {
            "marker": {
             "colorbar": {
              "outlinewidth": 0,
              "ticks": ""
             }
            },
            "type": "scattermapbox"
           }
          ],
          "scatterpolar": [
           {
            "marker": {
             "colorbar": {
              "outlinewidth": 0,
              "ticks": ""
             }
            },
            "type": "scatterpolar"
           }
          ],
          "scatterpolargl": [
           {
            "marker": {
             "colorbar": {
              "outlinewidth": 0,
              "ticks": ""
             }
            },
            "type": "scatterpolargl"
           }
          ],
          "scatterternary": [
           {
            "marker": {
             "colorbar": {
              "outlinewidth": 0,
              "ticks": ""
             }
            },
            "type": "scatterternary"
           }
          ],
          "surface": [
           {
            "colorbar": {
             "outlinewidth": 0,
             "ticks": ""
            },
            "colorscale": [
             [
              0,
              "#0d0887"
             ],
             [
              0.1111111111111111,
              "#46039f"
             ],
             [
              0.2222222222222222,
              "#7201a8"
             ],
             [
              0.3333333333333333,
              "#9c179e"
             ],
             [
              0.4444444444444444,
              "#bd3786"
             ],
             [
              0.5555555555555556,
              "#d8576b"
             ],
             [
              0.6666666666666666,
              "#ed7953"
             ],
             [
              0.7777777777777778,
              "#fb9f3a"
             ],
             [
              0.8888888888888888,
              "#fdca26"
             ],
             [
              1,
              "#f0f921"
             ]
            ],
            "type": "surface"
           }
          ],
          "table": [
           {
            "cells": {
             "fill": {
              "color": "#EBF0F8"
             },
             "line": {
              "color": "white"
             }
            },
            "header": {
             "fill": {
              "color": "#C8D4E3"
             },
             "line": {
              "color": "white"
             }
            },
            "type": "table"
           }
          ]
         },
         "layout": {
          "annotationdefaults": {
           "arrowcolor": "#2a3f5f",
           "arrowhead": 0,
           "arrowwidth": 1
          },
          "autotypenumbers": "strict",
          "coloraxis": {
           "colorbar": {
            "outlinewidth": 0,
            "ticks": ""
           }
          },
          "colorscale": {
           "diverging": [
            [
             0,
             "#8e0152"
            ],
            [
             0.1,
             "#c51b7d"
            ],
            [
             0.2,
             "#de77ae"
            ],
            [
             0.3,
             "#f1b6da"
            ],
            [
             0.4,
             "#fde0ef"
            ],
            [
             0.5,
             "#f7f7f7"
            ],
            [
             0.6,
             "#e6f5d0"
            ],
            [
             0.7,
             "#b8e186"
            ],
            [
             0.8,
             "#7fbc41"
            ],
            [
             0.9,
             "#4d9221"
            ],
            [
             1,
             "#276419"
            ]
           ],
           "sequential": [
            [
             0,
             "#0d0887"
            ],
            [
             0.1111111111111111,
             "#46039f"
            ],
            [
             0.2222222222222222,
             "#7201a8"
            ],
            [
             0.3333333333333333,
             "#9c179e"
            ],
            [
             0.4444444444444444,
             "#bd3786"
            ],
            [
             0.5555555555555556,
             "#d8576b"
            ],
            [
             0.6666666666666666,
             "#ed7953"
            ],
            [
             0.7777777777777778,
             "#fb9f3a"
            ],
            [
             0.8888888888888888,
             "#fdca26"
            ],
            [
             1,
             "#f0f921"
            ]
           ],
           "sequentialminus": [
            [
             0,
             "#0d0887"
            ],
            [
             0.1111111111111111,
             "#46039f"
            ],
            [
             0.2222222222222222,
             "#7201a8"
            ],
            [
             0.3333333333333333,
             "#9c179e"
            ],
            [
             0.4444444444444444,
             "#bd3786"
            ],
            [
             0.5555555555555556,
             "#d8576b"
            ],
            [
             0.6666666666666666,
             "#ed7953"
            ],
            [
             0.7777777777777778,
             "#fb9f3a"
            ],
            [
             0.8888888888888888,
             "#fdca26"
            ],
            [
             1,
             "#f0f921"
            ]
           ]
          },
          "colorway": [
           "#636efa",
           "#EF553B",
           "#00cc96",
           "#ab63fa",
           "#FFA15A",
           "#19d3f3",
           "#FF6692",
           "#B6E880",
           "#FF97FF",
           "#FECB52"
          ],
          "font": {
           "color": "#2a3f5f"
          },
          "geo": {
           "bgcolor": "white",
           "lakecolor": "white",
           "landcolor": "#E5ECF6",
           "showlakes": true,
           "showland": true,
           "subunitcolor": "white"
          },
          "hoverlabel": {
           "align": "left"
          },
          "hovermode": "closest",
          "mapbox": {
           "style": "light"
          },
          "paper_bgcolor": "white",
          "plot_bgcolor": "#E5ECF6",
          "polar": {
           "angularaxis": {
            "gridcolor": "white",
            "linecolor": "white",
            "ticks": ""
           },
           "bgcolor": "#E5ECF6",
           "radialaxis": {
            "gridcolor": "white",
            "linecolor": "white",
            "ticks": ""
           }
          },
          "scene": {
           "xaxis": {
            "backgroundcolor": "#E5ECF6",
            "gridcolor": "white",
            "gridwidth": 2,
            "linecolor": "white",
            "showbackground": true,
            "ticks": "",
            "zerolinecolor": "white"
           },
           "yaxis": {
            "backgroundcolor": "#E5ECF6",
            "gridcolor": "white",
            "gridwidth": 2,
            "linecolor": "white",
            "showbackground": true,
            "ticks": "",
            "zerolinecolor": "white"
           },
           "zaxis": {
            "backgroundcolor": "#E5ECF6",
            "gridcolor": "white",
            "gridwidth": 2,
            "linecolor": "white",
            "showbackground": true,
            "ticks": "",
            "zerolinecolor": "white"
           }
          },
          "shapedefaults": {
           "line": {
            "color": "#2a3f5f"
           }
          },
          "ternary": {
           "aaxis": {
            "gridcolor": "white",
            "linecolor": "white",
            "ticks": ""
           },
           "baxis": {
            "gridcolor": "white",
            "linecolor": "white",
            "ticks": ""
           },
           "bgcolor": "#E5ECF6",
           "caxis": {
            "gridcolor": "white",
            "linecolor": "white",
            "ticks": ""
           }
          },
          "title": {
           "x": 0.05
          },
          "xaxis": {
           "automargin": true,
           "gridcolor": "white",
           "linecolor": "white",
           "ticks": "",
           "title": {
            "standoff": 15
           },
           "zerolinecolor": "white",
           "zerolinewidth": 2
          },
          "yaxis": {
           "automargin": true,
           "gridcolor": "white",
           "linecolor": "white",
           "ticks": "",
           "title": {
            "standoff": 15
           },
           "zerolinecolor": "white",
           "zerolinewidth": 2
          }
         }
        },
        "title": {
         "text": "Visualização de Clientes com os 2 Primeiros Componentes Principais"
        },
        "xaxis": {
         "anchor": "y",
         "domain": [
          0,
          1
         ],
         "title": {
          "text": "PC_1"
         }
        },
        "yaxis": {
         "anchor": "x",
         "domain": [
          0,
          1
         ],
         "title": {
          "text": "PC_2"
         }
        }
       }
      }
     },
     "metadata": {},
     "output_type": "display_data"
    }
   ],
   "source": [
    "import pandas as pd\n",
    "import numpy as np\n",
    "from sklearn.preprocessing import StandardScaler\n",
    "from sklearn.decomposition import PCA\n",
    "import plotly.express as px\n",
    "\n",
    "# --- 1. SIMULAR UMA BASE DE DADOS COMO A SUA ---\n",
    "# (Esta parte apenas cria um DataFrame para o exemplo)\n",
    "# num_amostras = 1000\n",
    "# dados = {\n",
    "#     'id_cliente': range(1, num_amostras + 1),\n",
    "#     'valor_divida_mil': np.random.lognormal(mean=3.5, sigma=1.5, size=num_amostras).round(2),\n",
    "#     'tempo_inadimplencia_dias': np.random.randint(30, 1800, size=num_amostras),\n",
    "#     'porte_cliente': np.random.choice(['Pequeno', 'Médio', 'Grande'], size=num_amostras, p=[0.5, 0.4, 0.1]),\n",
    "#     'ramo_atuacao_cliente': np.random.choice(['Produtor', 'Cooperativa', 'Distribuidor', 'Indústria'], size=num_amostras),\n",
    "#     'score_risco_interno': np.random.choice(['A', 'B', 'C', 'D', 'F'], size=num_amostras),\n",
    "#     'regiao': np.random.choice(['Sul', 'Sudeste', 'Centro-Oeste', 'Nordeste', 'Norte'], size=num_amostras)\n",
    "# }\n",
    "# df = pd.DataFrame(dados)\n",
    "\n",
    "df = pd.read_csv(\"prospects_para_avaliar.csv\")\n",
    "\n",
    "\n",
    "# --- 2. PRÉ-PROCESSAMENTO ---\n",
    "\n",
    "# Separar colunas numéricas e categóricas\n",
    "df_features = df.drop('id_cliente', axis=1)\n",
    "colunas_numericas = ['valor_divida_mil', 'tempo_inadimplencia_dias']\n",
    "colunas_categoricas = ['porte_cliente', 'ramo_atuacao_cliente', 'score_risco_interno', 'regiao']\n",
    "\n",
    "# One-Hot Encoding para as colunas categóricas\n",
    "df_categoricas_encoded = pd.get_dummies(df_features[colunas_categoricas])\n",
    "\n",
    "# Escalonamento (Standardization) para as colunas numéricas\n",
    "scaler = StandardScaler()\n",
    "df_numericas_scaled = pd.DataFrame(scaler.fit_transform(df_features[colunas_numericas]), columns=colunas_numericas)\n",
    "\n",
    "# Juntar as features processadas em um único DataFrame\n",
    "df_processado = pd.concat([df_numericas_scaled, df_categoricas_encoded], axis=1)\n",
    "\n",
    "print(\"Formato dos dados após pré-processamento:\", df_processado.shape)\n",
    "print(\"Amostra dos dados prontos para o PCA:\")\n",
    "print(df_processado.head())\n",
    "\n",
    "\n",
    "# --- 3. APLICANDO O PCA ---\n",
    "\n",
    "# Instanciar o PCA. n_components define quantos componentes queremos.\n",
    "# Se deixarmos em branco, ele calcula todos os possíveis.\n",
    "pca = PCA()\n",
    "\n",
    "# Aplicar o PCA aos dados processados\n",
    "componentes_principais = pca.fit_transform(df_processado)\n",
    "\n",
    "# Criar um DataFrame com os componentes principais\n",
    "df_pca = pd.DataFrame(data = componentes_principais, columns = [f'PC_{i+1}' for i in range(df_processado.shape[1])])\n",
    "\n",
    "print(\"\\n--- Resultado do PCA ---\")\n",
    "print(df_pca.head())\n",
    "\n",
    "\n",
    "# --- 4. ANALISANDO O RESULTADO ---\n",
    "\n",
    "# O atributo 'explained_variance_ratio_' nos diz quanto da variância\n",
    "# total dos dados cada componente principal consegue explicar.\n",
    "variancia_explicada = pca.explained_variance_ratio_\n",
    "variancia_acumulada = np.cumsum(variancia_explicada)\n",
    "\n",
    "print(f\"\\nVariância explicada por cada componente: {np.round(variancia_explicada, 3)}\")\n",
    "print(f\"Variância acumulada: {np.round(variancia_acumulada, 3)}\")\n",
    "\n",
    "# Geralmente, escolhemos o número de componentes que explica 95% da variância.\n",
    "n_componentes_95 = np.where(variancia_acumulada >= 0.95)[0][0] + 1\n",
    "print(f\"\\nNúmero de componentes para explicar 95% da variância: {n_componentes_95}\")\n",
    "\n",
    "\n",
    "# --- 5. VISUALIZAÇÃO COM OS DOIS PRIMEIROS COMPONENTES ---\n",
    "\n",
    "# Adicionar os dois primeiros componentes ao DataFrame original para colorir o gráfico\n",
    "df['PC_1'] = df_pca['PC_1']\n",
    "df['PC_2'] = df_pca['PC_2']\n",
    "\n",
    "# Criar um gráfico de dispersão interativo\n",
    "fig = px.scatter(\n",
    "    df,\n",
    "    x='PC_1',\n",
    "    y='PC_2',\n",
    "    color='score_risco_interno', # Colorir os pontos pelo score de risco\n",
    "    hover_data=['id_cliente', 'valor_divida_mil'],\n",
    "    title='Visualização de Clientes com os 2 Primeiros Componentes Principais'\n",
    ")\n",
    "fig.show()"
   ]
  }
 ],
 "metadata": {
  "kernelspec": {
   "display_name": "Python 3",
   "language": "python",
   "name": "python3"
  },
  "language_info": {
   "codemirror_mode": {
    "name": "ipython",
    "version": 3
   },
   "file_extension": ".py",
   "mimetype": "text/x-python",
   "name": "python",
   "nbconvert_exporter": "python",
   "pygments_lexer": "ipython3",
   "version": "3.13.3"
  }
 },
 "nbformat": 4,
 "nbformat_minor": 5
}
