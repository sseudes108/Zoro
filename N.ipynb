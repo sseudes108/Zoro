{
 "cells": [
  {
   "cell_type": "code",
   "execution_count": 2,
   "id": "c57a1c9b",
   "metadata": {},
   "outputs": [],
   "source": [
    "import pandas as pd\n",
    "import numpy as np\n",
    "import matplotlib.pyplot as plt\n",
    "import matplotlib.dates as mdates\n",
    "import plotly.express as px\n",
    "import plotly.graph_objects as go\n",
    "import math"
   ]
  },
  {
   "cell_type": "code",
   "execution_count": 3,
   "id": "f83fdea6",
   "metadata": {},
   "outputs": [
    {
     "name": "stdout",
     "output_type": "stream",
     "text": [
      "A simular dados de entrada...\n",
      "Total de 7788 propostas simuladas.\n"
     ]
    }
   ],
   "source": [
    "def simular_chegada_propostas(dias=2):\n",
    "    print(\"A simular dados de entrada...\")\n",
    "    total_horas = dias * 24\n",
    "    datas = pd.to_datetime(pd.date_range(start='2025-09-01 00:00:00', periods=total_horas, freq='h'))\n",
    "    probabilidade_chegada = np.sin(np.linspace(0, 2 * np.pi, 24)) * 0.5 + 0.6\n",
    "    probabilidade_chegada = np.tile(probabilidade_chegada, dias)\n",
    "    num_propostas_por_hora = np.random.poisson(probabilidade_chegada * 270)\n",
    "    lista_propostas = []\n",
    "    for data, num_propostas in zip(datas, num_propostas_por_hora):\n",
    "        for _ in range(num_propostas):\n",
    "            minuto_aleatorio = np.random.randint(0, 60)\n",
    "            segundo_aleatorio = np.random.randint(0, 60)\n",
    "            timestamp_proposta = data + pd.Timedelta(minutes=minuto_aleatorio, seconds=segundo_aleatorio)\n",
    "            lista_propostas.append({'data_entrada': timestamp_proposta})\n",
    "    df = pd.DataFrame(lista_propostas)\n",
    "    print(f\"Total de {len(df)} propostas simuladas.\")\n",
    "    return df\n",
    "\n",
    "df_propostas = simular_chegada_propostas(dias=2)"
   ]
  },
  {
   "cell_type": "code",
   "execution_count": 14,
   "id": "123c78d9",
   "metadata": {},
   "outputs": [
    {
     "name": "stdout",
     "output_type": "stream",
     "text": [
      "Tabela de análise final com necessidade de analistas:\n",
      "A gerar o gráfico final com hover de 5 minutos...\n"
     ]
    },
    {
     "data": {
      "application/vnd.plotly.v1+json": {
       "config": {
        "plotlyServerURL": "https://plot.ly"
       },
       "data": [
        {
         "fill": "tozeroy",
         "fillcolor": "rgba(24, 102, 215, 0.4)",
         "hovertemplate": "<b>%{x|%d/%m %H:%M}</b><br>Entradas: %{y}<extra></extra>",
         "line": {
          "width": 0.5
         },
         "name": "Entradas",
         "type": "scatter",
         "x": [
          "2025-09-01T00:00:00",
          "2025-09-01T00:30:00",
          "2025-09-01T01:00:00",
          "2025-09-01T01:30:00",
          "2025-09-01T02:00:00",
          "2025-09-01T02:30:00",
          "2025-09-01T03:00:00",
          "2025-09-01T03:30:00",
          "2025-09-01T04:00:00",
          "2025-09-01T04:30:00",
          "2025-09-01T05:00:00",
          "2025-09-01T05:30:00",
          "2025-09-01T06:00:00",
          "2025-09-01T06:30:00",
          "2025-09-01T07:00:00",
          "2025-09-01T07:30:00",
          "2025-09-01T08:00:00",
          "2025-09-01T08:30:00",
          "2025-09-01T09:00:00",
          "2025-09-01T09:30:00",
          "2025-09-01T10:00:00",
          "2025-09-01T10:30:00",
          "2025-09-01T11:00:00",
          "2025-09-01T11:30:00",
          "2025-09-01T12:00:00",
          "2025-09-01T12:30:00",
          "2025-09-01T13:00:00",
          "2025-09-01T13:30:00",
          "2025-09-01T14:00:00",
          "2025-09-01T14:30:00",
          "2025-09-01T15:00:00",
          "2025-09-01T15:30:00",
          "2025-09-01T16:00:00",
          "2025-09-01T16:30:00",
          "2025-09-01T17:00:00",
          "2025-09-01T17:30:00",
          "2025-09-01T18:00:00",
          "2025-09-01T18:30:00",
          "2025-09-01T19:00:00",
          "2025-09-01T19:30:00",
          "2025-09-01T20:00:00",
          "2025-09-01T20:30:00",
          "2025-09-01T21:00:00",
          "2025-09-01T21:30:00",
          "2025-09-01T22:00:00",
          "2025-09-01T22:30:00",
          "2025-09-01T23:00:00",
          "2025-09-01T23:30:00",
          "2025-09-02T00:00:00",
          "2025-09-02T00:30:00",
          "2025-09-02T01:00:00",
          "2025-09-02T01:30:00",
          "2025-09-02T02:00:00",
          "2025-09-02T02:30:00",
          "2025-09-02T03:00:00",
          "2025-09-02T03:30:00",
          "2025-09-02T04:00:00",
          "2025-09-02T04:30:00",
          "2025-09-02T05:00:00",
          "2025-09-02T05:30:00",
          "2025-09-02T06:00:00",
          "2025-09-02T06:30:00",
          "2025-09-02T07:00:00",
          "2025-09-02T07:30:00",
          "2025-09-02T08:00:00",
          "2025-09-02T08:30:00",
          "2025-09-02T09:00:00",
          "2025-09-02T09:30:00",
          "2025-09-02T10:00:00",
          "2025-09-02T10:30:00",
          "2025-09-02T11:00:00",
          "2025-09-02T11:30:00",
          "2025-09-02T12:00:00",
          "2025-09-02T12:30:00",
          "2025-09-02T13:00:00",
          "2025-09-02T13:30:00",
          "2025-09-02T14:00:00",
          "2025-09-02T14:30:00",
          "2025-09-02T15:00:00",
          "2025-09-02T15:30:00",
          "2025-09-02T16:00:00",
          "2025-09-02T16:30:00",
          "2025-09-02T17:00:00",
          "2025-09-02T17:30:00",
          "2025-09-02T18:00:00",
          "2025-09-02T18:30:00",
          "2025-09-02T19:00:00",
          "2025-09-02T19:30:00",
          "2025-09-02T20:00:00",
          "2025-09-02T20:30:00",
          "2025-09-02T21:00:00",
          "2025-09-02T21:30:00",
          "2025-09-02T22:00:00",
          "2025-09-02T22:30:00",
          "2025-09-02T23:00:00",
          "2025-09-02T23:30:00",
          "2025-09-03T00:00:00",
          "2025-09-03T00:30:00",
          "2025-09-03T01:00:00",
          "2025-09-03T01:30:00",
          "2025-09-03T02:00:00",
          "2025-09-03T02:30:00",
          "2025-09-03T03:00:00",
          "2025-09-03T03:30:00",
          "2025-09-03T04:00:00",
          "2025-09-03T04:30:00",
          "2025-09-03T05:00:00",
          "2025-09-03T05:30:00",
          "2025-09-03T06:00:00",
          "2025-09-03T06:30:00",
          "2025-09-03T07:00:00",
          "2025-09-03T07:30:00",
          "2025-09-03T08:00:00",
          "2025-09-03T08:30:00",
          "2025-09-03T09:00:00",
          "2025-09-03T09:30:00",
          "2025-09-03T10:00:00",
          "2025-09-03T10:30:00",
          "2025-09-03T11:00:00",
          "2025-09-03T11:30:00"
         ],
         "y": {
          "bdata": "AAAAAABAUUAAAAAAAIBOQAAAAAAAgFdAAAAAAABAWUAAAAAAAIBaQAAAAAAAAFlAAAAAAABAYUAAAAAAAABfQAAAAAAA4GFAAAAAAABgYEAAAAAAAGBhQAAAAAAAgF9AAAAAAACgZEAAAAAAAIBjQAAAAAAAIGRAAAAAAABAZEAAAAAAAGBgQAAAAAAAAF9AAAAAAABAXkAAAAAAAIBdQAAAAAAAAFxAAAAAAADAWkAAAAAAAIBVQAAAAAAAAFRAAAAAAAAAUkAAAAAAAABRQAAAAAAAAFBAAAAAAAAARkAAAAAAAABDQAAAAAAAgENAAAAAAACAQUAAAAAAAAA/QAAAAAAAADNAAAAAAAAAJEAAAAAAAAA0QAAAAAAAADBAAAAAAAAALEAAAAAAAAAyQAAAAAAAADVAAAAAAAAAMkAAAAAAAIBCQAAAAAAAADxAAAAAAAAARkAAAAAAAABJQAAAAAAAwFBAAAAAAAAATEAAAAAAAMBTQAAAAAAAAFRAAAAAAABAVEAAAAAAAEBWQAAAAAAAAFpAAAAAAAAAWkAAAAAAAEBeQAAAAAAAQF5AAAAAAAAgYkAAAAAAAABgQAAAAAAAwGBAAAAAAABAYEAAAAAAACBiQAAAAAAAIGJAAAAAAADgYkAAAAAAAKBjQAAAAAAAQGNAAAAAAADAX0AAAAAAAOBgQAAAAAAA4GBAAAAAAAAAXkAAAAAAAMBhQAAAAAAAQF5AAAAAAACAXkAAAAAAAABXQAAAAAAAgFZAAAAAAACAUkAAAAAAAABPQAAAAAAAAElAAAAAAACAT0AAAAAAAIBGQAAAAAAAAEFAAAAAAAAAN0AAAAAAAAA7QAAAAAAAAC5AAAAAAAAAMEAAAAAAAAAxQAAAAAAAACJAAAAAAAAAJkAAAAAAAAAyQAAAAAAAADxAAAAAAAAAPkAAAAAAAABFQAAAAAAAAERAAAAAAAAASEAAAAAAAIBBQAAAAAAAgFBAAAAAAACATUAAAAAAAMBTQAAAAAAAQFRAAAAAAAAAAAAAAAAAAAAAAAAAAAAAAAAAAAAAAAAAAAAAAAAAAAAAAAAAAAAAAAAAAAAAAAAAAAAAAAAAAAAAAAAAAAAAAAAAAAAAAAAAAAAAAAAAAAAAAAAAAAAAAAAAAAAAAAAAAAAAAAAAAAAAAAAAAAAAAAAAAAAAAAAAAAAAAAAAAAAAAAAAAAAAAAAAAAAAAAAAAAAAAAAAAAAAAAAAAAAAAAAAAAAAAAAAAAAAAAAAAAAAAAAAAAAAAAAA",
          "dtype": "f8"
         }
        },
        {
         "fill": "tozeroy",
         "fillcolor": "rgba(220, 20, 60, 0.3)",
         "hovertemplate": "<b>%{x|%d/%m %H:%M}</b><br>Vencimentos: %{y}<extra></extra>",
         "line": {
          "width": 0.5
         },
         "name": "Vencimento SLA",
         "type": "scatter",
         "x": [
          "2025-09-01T00:00:00",
          "2025-09-01T00:30:00",
          "2025-09-01T01:00:00",
          "2025-09-01T01:30:00",
          "2025-09-01T02:00:00",
          "2025-09-01T02:30:00",
          "2025-09-01T03:00:00",
          "2025-09-01T03:30:00",
          "2025-09-01T04:00:00",
          "2025-09-01T04:30:00",
          "2025-09-01T05:00:00",
          "2025-09-01T05:30:00",
          "2025-09-01T06:00:00",
          "2025-09-01T06:30:00",
          "2025-09-01T07:00:00",
          "2025-09-01T07:30:00",
          "2025-09-01T08:00:00",
          "2025-09-01T08:30:00",
          "2025-09-01T09:00:00",
          "2025-09-01T09:30:00",
          "2025-09-01T10:00:00",
          "2025-09-01T10:30:00",
          "2025-09-01T11:00:00",
          "2025-09-01T11:30:00",
          "2025-09-01T12:00:00",
          "2025-09-01T12:30:00",
          "2025-09-01T13:00:00",
          "2025-09-01T13:30:00",
          "2025-09-01T14:00:00",
          "2025-09-01T14:30:00",
          "2025-09-01T15:00:00",
          "2025-09-01T15:30:00",
          "2025-09-01T16:00:00",
          "2025-09-01T16:30:00",
          "2025-09-01T17:00:00",
          "2025-09-01T17:30:00",
          "2025-09-01T18:00:00",
          "2025-09-01T18:30:00",
          "2025-09-01T19:00:00",
          "2025-09-01T19:30:00",
          "2025-09-01T20:00:00",
          "2025-09-01T20:30:00",
          "2025-09-01T21:00:00",
          "2025-09-01T21:30:00",
          "2025-09-01T22:00:00",
          "2025-09-01T22:30:00",
          "2025-09-01T23:00:00",
          "2025-09-01T23:30:00",
          "2025-09-02T00:00:00",
          "2025-09-02T00:30:00",
          "2025-09-02T01:00:00",
          "2025-09-02T01:30:00",
          "2025-09-02T02:00:00",
          "2025-09-02T02:30:00",
          "2025-09-02T03:00:00",
          "2025-09-02T03:30:00",
          "2025-09-02T04:00:00",
          "2025-09-02T04:30:00",
          "2025-09-02T05:00:00",
          "2025-09-02T05:30:00",
          "2025-09-02T06:00:00",
          "2025-09-02T06:30:00",
          "2025-09-02T07:00:00",
          "2025-09-02T07:30:00",
          "2025-09-02T08:00:00",
          "2025-09-02T08:30:00",
          "2025-09-02T09:00:00",
          "2025-09-02T09:30:00",
          "2025-09-02T10:00:00",
          "2025-09-02T10:30:00",
          "2025-09-02T11:00:00",
          "2025-09-02T11:30:00",
          "2025-09-02T12:00:00",
          "2025-09-02T12:30:00",
          "2025-09-02T13:00:00",
          "2025-09-02T13:30:00",
          "2025-09-02T14:00:00",
          "2025-09-02T14:30:00",
          "2025-09-02T15:00:00",
          "2025-09-02T15:30:00",
          "2025-09-02T16:00:00",
          "2025-09-02T16:30:00",
          "2025-09-02T17:00:00",
          "2025-09-02T17:30:00",
          "2025-09-02T18:00:00",
          "2025-09-02T18:30:00",
          "2025-09-02T19:00:00",
          "2025-09-02T19:30:00",
          "2025-09-02T20:00:00",
          "2025-09-02T20:30:00",
          "2025-09-02T21:00:00",
          "2025-09-02T21:30:00",
          "2025-09-02T22:00:00",
          "2025-09-02T22:30:00",
          "2025-09-02T23:00:00",
          "2025-09-02T23:30:00",
          "2025-09-03T00:00:00",
          "2025-09-03T00:30:00",
          "2025-09-03T01:00:00",
          "2025-09-03T01:30:00",
          "2025-09-03T02:00:00",
          "2025-09-03T02:30:00",
          "2025-09-03T03:00:00",
          "2025-09-03T03:30:00",
          "2025-09-03T04:00:00",
          "2025-09-03T04:30:00",
          "2025-09-03T05:00:00",
          "2025-09-03T05:30:00",
          "2025-09-03T06:00:00",
          "2025-09-03T06:30:00",
          "2025-09-03T07:00:00",
          "2025-09-03T07:30:00",
          "2025-09-03T08:00:00",
          "2025-09-03T08:30:00",
          "2025-09-03T09:00:00",
          "2025-09-03T09:30:00",
          "2025-09-03T10:00:00",
          "2025-09-03T10:30:00",
          "2025-09-03T11:00:00",
          "2025-09-03T11:30:00"
         ],
         "y": {
          "bdata": "AAAAAAAAAAAAAAAAAAAAAAAAAAAAAAAAAAAAAAAAAAAAAAAAAAAAAAAAAAAAAAAAAAAAAAAAAAAAAAAAAAAAAAAAAAAAAAAAAAAAAAAAAAAAAAAAAAAAAAAAAAAAAAAAAAAAAAAAAAAAAAAAAAAAAAAAAAAAAAAAAAAAAAAAAAAAAAAAAAAAAAAAAAAAAAAAAAAAAAAAAAAAAAAAAAAAAAAAAAAAAAAAAAAAAAAAAAAAAAAAAAAAAAAAAAAAAAAAAAAAAABAUUAAAAAAAIBOQAAAAAAAgFdAAAAAAABAWUAAAAAAAIBaQAAAAAAAAFlAAAAAAABAYUAAAAAAAABfQAAAAAAA4GFAAAAAAABgYEAAAAAAAGBhQAAAAAAAgF9AAAAAAACgZEAAAAAAAIBjQAAAAAAAIGRAAAAAAABAZEAAAAAAAGBgQAAAAAAAAF9AAAAAAABAXkAAAAAAAIBdQAAAAAAAAFxAAAAAAADAWkAAAAAAAIBVQAAAAAAAAFRAAAAAAAAAUkAAAAAAAABRQAAAAAAAAFBAAAAAAAAARkAAAAAAAABDQAAAAAAAgENAAAAAAACAQUAAAAAAAAA/QAAAAAAAADNAAAAAAAAAJEAAAAAAAAA0QAAAAAAAADBAAAAAAAAALEAAAAAAAAAyQAAAAAAAADVAAAAAAAAAMkAAAAAAAIBCQAAAAAAAADxAAAAAAAAARkAAAAAAAABJQAAAAAAAwFBAAAAAAAAATEAAAAAAAMBTQAAAAAAAAFRAAAAAAABAVEAAAAAAAEBWQAAAAAAAAFpAAAAAAAAAWkAAAAAAAEBeQAAAAAAAQF5AAAAAAAAgYkAAAAAAAABgQAAAAAAAwGBAAAAAAABAYEAAAAAAACBiQAAAAAAAIGJAAAAAAADgYkAAAAAAAKBjQAAAAAAAQGNAAAAAAADAX0AAAAAAAOBgQAAAAAAA4GBAAAAAAAAAXkAAAAAAAMBhQAAAAAAAQF5AAAAAAACAXkAAAAAAAABXQAAAAAAAgFZAAAAAAACAUkAAAAAAAABPQAAAAAAAAElAAAAAAACAT0AAAAAAAIBGQAAAAAAAAEFAAAAAAAAAN0AAAAAAAAA7QAAAAAAAAC5AAAAAAAAAMEAAAAAAAAAxQAAAAAAAACJAAAAAAAAAJkAAAAAAAAAyQAAAAAAAADxAAAAAAAAAPkAAAAAAAABFQAAAAAAAAERAAAAAAAAASEAAAAAAAIBBQAAAAAAAgFBAAAAAAACATUAAAAAAAMBTQAAAAAAAQFRA",
          "dtype": "f8"
         }
        },
        {
         "hovertemplate": "<b>%{x|%d/%m %H:%M}</b><br>Início Limite: %{y}<extra></extra>",
         "line": {
          "color": "darkorange",
          "width": 3.5
         },
         "name": "AÇÃO: Início Limite",
         "type": "scatter",
         "x": [
          "2025-09-01T00:00:00",
          "2025-09-01T00:30:00",
          "2025-09-01T01:00:00",
          "2025-09-01T01:30:00",
          "2025-09-01T02:00:00",
          "2025-09-01T02:30:00",
          "2025-09-01T03:00:00",
          "2025-09-01T03:30:00",
          "2025-09-01T04:00:00",
          "2025-09-01T04:30:00",
          "2025-09-01T05:00:00",
          "2025-09-01T05:30:00",
          "2025-09-01T06:00:00",
          "2025-09-01T06:30:00",
          "2025-09-01T07:00:00",
          "2025-09-01T07:30:00",
          "2025-09-01T08:00:00",
          "2025-09-01T08:30:00",
          "2025-09-01T09:00:00",
          "2025-09-01T09:30:00",
          "2025-09-01T10:00:00",
          "2025-09-01T10:30:00",
          "2025-09-01T11:00:00",
          "2025-09-01T11:30:00",
          "2025-09-01T12:00:00",
          "2025-09-01T12:30:00",
          "2025-09-01T13:00:00",
          "2025-09-01T13:30:00",
          "2025-09-01T14:00:00",
          "2025-09-01T14:30:00",
          "2025-09-01T15:00:00",
          "2025-09-01T15:30:00",
          "2025-09-01T16:00:00",
          "2025-09-01T16:30:00",
          "2025-09-01T17:00:00",
          "2025-09-01T17:30:00",
          "2025-09-01T18:00:00",
          "2025-09-01T18:30:00",
          "2025-09-01T19:00:00",
          "2025-09-01T19:30:00",
          "2025-09-01T20:00:00",
          "2025-09-01T20:30:00",
          "2025-09-01T21:00:00",
          "2025-09-01T21:30:00",
          "2025-09-01T22:00:00",
          "2025-09-01T22:30:00",
          "2025-09-01T23:00:00",
          "2025-09-01T23:30:00",
          "2025-09-02T00:00:00",
          "2025-09-02T00:30:00",
          "2025-09-02T01:00:00",
          "2025-09-02T01:30:00",
          "2025-09-02T02:00:00",
          "2025-09-02T02:30:00",
          "2025-09-02T03:00:00",
          "2025-09-02T03:30:00",
          "2025-09-02T04:00:00",
          "2025-09-02T04:30:00",
          "2025-09-02T05:00:00",
          "2025-09-02T05:30:00",
          "2025-09-02T06:00:00",
          "2025-09-02T06:30:00",
          "2025-09-02T07:00:00",
          "2025-09-02T07:30:00",
          "2025-09-02T08:00:00",
          "2025-09-02T08:30:00",
          "2025-09-02T09:00:00",
          "2025-09-02T09:30:00",
          "2025-09-02T10:00:00",
          "2025-09-02T10:30:00",
          "2025-09-02T11:00:00",
          "2025-09-02T11:30:00",
          "2025-09-02T12:00:00",
          "2025-09-02T12:30:00",
          "2025-09-02T13:00:00",
          "2025-09-02T13:30:00",
          "2025-09-02T14:00:00",
          "2025-09-02T14:30:00",
          "2025-09-02T15:00:00",
          "2025-09-02T15:30:00",
          "2025-09-02T16:00:00",
          "2025-09-02T16:30:00",
          "2025-09-02T17:00:00",
          "2025-09-02T17:30:00",
          "2025-09-02T18:00:00",
          "2025-09-02T18:30:00",
          "2025-09-02T19:00:00",
          "2025-09-02T19:30:00",
          "2025-09-02T20:00:00",
          "2025-09-02T20:30:00",
          "2025-09-02T21:00:00",
          "2025-09-02T21:30:00",
          "2025-09-02T22:00:00",
          "2025-09-02T22:30:00",
          "2025-09-02T23:00:00",
          "2025-09-02T23:30:00",
          "2025-09-03T00:00:00",
          "2025-09-03T00:30:00",
          "2025-09-03T01:00:00",
          "2025-09-03T01:30:00",
          "2025-09-03T02:00:00",
          "2025-09-03T02:30:00",
          "2025-09-03T03:00:00",
          "2025-09-03T03:30:00",
          "2025-09-03T04:00:00",
          "2025-09-03T04:30:00",
          "2025-09-03T05:00:00",
          "2025-09-03T05:30:00",
          "2025-09-03T06:00:00",
          "2025-09-03T06:30:00",
          "2025-09-03T07:00:00",
          "2025-09-03T07:30:00",
          "2025-09-03T08:00:00",
          "2025-09-03T08:30:00",
          "2025-09-03T09:00:00",
          "2025-09-03T09:30:00",
          "2025-09-03T10:00:00",
          "2025-09-03T10:30:00",
          "2025-09-03T11:00:00",
          "2025-09-03T11:30:00"
         ],
         "y": {
          "bdata": "AAAAAAAAAAAAAAAAAAAAAAAAAAAAAAAAAAAAAAAAAAAAAAAAAAAAAAAAAAAAAAAAAAAAAAAAAAAAAAAAAAAAAAAAAAAAAAAAAAAAAAAAAAAAAAAAAAAAAAAAAAAAAAAAAAAAAAAAAAAAAAAAAAAAAAAAAAAAAAAAAAAAAAAAAAAAAAAAAAAAAAAAAAAAAAAAAAAAAAAAAAAAAAAAAAAAAAAAAAAAAAAAAAAAAAAAAAAAAAAAAAAAAAAAAAAAACpAAAAAAADAUEAAAAAAAIBSQAAAAAAAgFVAAAAAAACAWkAAAAAAAIBZQAAAAAAAwFlAAAAAAADgYUAAAAAAAMBeQAAAAAAAIGJAAAAAAACAXkAAAAAAAOBhQAAAAAAAgGBAAAAAAADgZEAAAAAAAOBjQAAAAAAAwGRAAAAAAAAAYkAAAAAAAIBgQAAAAAAAgF9AAAAAAABAXUAAAAAAAEBeQAAAAAAAAFxAAAAAAACAWUAAAAAAAMBVQAAAAAAAgFJAAAAAAACAUUAAAAAAAABRQAAAAAAAwFBAAAAAAAAAREAAAAAAAABBQAAAAAAAgENAAAAAAAAAQUAAAAAAAIBAQAAAAAAAADFAAAAAAAAAJEAAAAAAAAAzQAAAAAAAAC5AAAAAAAAALkAAAAAAAAAzQAAAAAAAADNAAAAAAAAANUAAAAAAAIBCQAAAAAAAADxAAAAAAAAASUAAAAAAAABJQAAAAAAAQFFAAAAAAAAATUAAAAAAAIBTQAAAAAAAAFVAAAAAAACAVUAAAAAAAEBWQAAAAAAAAFhAAAAAAACAW0AAAAAAAABeQAAAAAAAAF9AAAAAAACAYUAAAAAAAKBgQAAAAAAA4GBAAAAAAADAX0AAAAAAAOBiQAAAAAAAgGJAAAAAAAAgYkAAAAAAAOBiQAAAAAAAwGRAAAAAAABAXUAAAAAAAABhQAAAAAAAAGFAAAAAAACgYEAAAAAAACBgQAAAAAAAAF5AAAAAAABAXUAAAAAAAIBWQAAAAAAAgFZAAAAAAADAUUAAAAAAAABPQAAAAAAAgEdAAAAAAACAUEAAAAAAAABEQAAAAAAAAEBAAAAAAAAAOUAAAAAAAAA3QAAAAAAAADBAAAAAAAAAMkAAAAAAAAAsQAAAAAAAACJAAAAAAAAALEAAAAAAAAAzQAAAAAAAADtAAAAAAAAAQUAAAAAAAIBBQAAAAAAAgEdAAAAAAACAR0AAAAAAAABEQAAAAAAAQFBAAAAAAABAUEAAAAAAAABTQAAAAAAAwFBA",
          "dtype": "f8"
         }
        },
        {
         "hovertemplate": "<b>%{x|%d/%m %H:%M}</b><br>Analistas: %{y}<extra></extra>",
         "line": {
          "color": "green",
          "dash": "dot",
          "width": 2
         },
         "marker": {
          "size": 8
         },
         "mode": "lines+markers",
         "name": "Analistas Necessários",
         "type": "scatter",
         "x": [
          "2025-09-01T00:00:00",
          "2025-09-01T00:30:00",
          "2025-09-01T01:00:00",
          "2025-09-01T01:30:00",
          "2025-09-01T02:00:00",
          "2025-09-01T02:30:00",
          "2025-09-01T03:00:00",
          "2025-09-01T03:30:00",
          "2025-09-01T04:00:00",
          "2025-09-01T04:30:00",
          "2025-09-01T05:00:00",
          "2025-09-01T05:30:00",
          "2025-09-01T06:00:00",
          "2025-09-01T06:30:00",
          "2025-09-01T07:00:00",
          "2025-09-01T07:30:00",
          "2025-09-01T08:00:00",
          "2025-09-01T08:30:00",
          "2025-09-01T09:00:00",
          "2025-09-01T09:30:00",
          "2025-09-01T10:00:00",
          "2025-09-01T10:30:00",
          "2025-09-01T11:00:00",
          "2025-09-01T11:30:00",
          "2025-09-01T12:00:00",
          "2025-09-01T12:30:00",
          "2025-09-01T13:00:00",
          "2025-09-01T13:30:00",
          "2025-09-01T14:00:00",
          "2025-09-01T14:30:00",
          "2025-09-01T15:00:00",
          "2025-09-01T15:30:00",
          "2025-09-01T16:00:00",
          "2025-09-01T16:30:00",
          "2025-09-01T17:00:00",
          "2025-09-01T17:30:00",
          "2025-09-01T18:00:00",
          "2025-09-01T18:30:00",
          "2025-09-01T19:00:00",
          "2025-09-01T19:30:00",
          "2025-09-01T20:00:00",
          "2025-09-01T20:30:00",
          "2025-09-01T21:00:00",
          "2025-09-01T21:30:00",
          "2025-09-01T22:00:00",
          "2025-09-01T22:30:00",
          "2025-09-01T23:00:00",
          "2025-09-01T23:30:00",
          "2025-09-02T00:00:00",
          "2025-09-02T00:30:00",
          "2025-09-02T01:00:00",
          "2025-09-02T01:30:00",
          "2025-09-02T02:00:00",
          "2025-09-02T02:30:00",
          "2025-09-02T03:00:00",
          "2025-09-02T03:30:00",
          "2025-09-02T04:00:00",
          "2025-09-02T04:30:00",
          "2025-09-02T05:00:00",
          "2025-09-02T05:30:00",
          "2025-09-02T06:00:00",
          "2025-09-02T06:30:00",
          "2025-09-02T07:00:00",
          "2025-09-02T07:30:00",
          "2025-09-02T08:00:00",
          "2025-09-02T08:30:00",
          "2025-09-02T09:00:00",
          "2025-09-02T09:30:00",
          "2025-09-02T10:00:00",
          "2025-09-02T10:30:00",
          "2025-09-02T11:00:00",
          "2025-09-02T11:30:00",
          "2025-09-02T12:00:00",
          "2025-09-02T12:30:00",
          "2025-09-02T13:00:00",
          "2025-09-02T13:30:00",
          "2025-09-02T14:00:00",
          "2025-09-02T14:30:00",
          "2025-09-02T15:00:00",
          "2025-09-02T15:30:00",
          "2025-09-02T16:00:00",
          "2025-09-02T16:30:00",
          "2025-09-02T17:00:00",
          "2025-09-02T17:30:00",
          "2025-09-02T18:00:00",
          "2025-09-02T18:30:00",
          "2025-09-02T19:00:00",
          "2025-09-02T19:30:00",
          "2025-09-02T20:00:00",
          "2025-09-02T20:30:00",
          "2025-09-02T21:00:00",
          "2025-09-02T21:30:00",
          "2025-09-02T22:00:00",
          "2025-09-02T22:30:00",
          "2025-09-02T23:00:00",
          "2025-09-02T23:30:00",
          "2025-09-03T00:00:00",
          "2025-09-03T00:30:00",
          "2025-09-03T01:00:00",
          "2025-09-03T01:30:00",
          "2025-09-03T02:00:00",
          "2025-09-03T02:30:00",
          "2025-09-03T03:00:00",
          "2025-09-03T03:30:00",
          "2025-09-03T04:00:00",
          "2025-09-03T04:30:00",
          "2025-09-03T05:00:00",
          "2025-09-03T05:30:00",
          "2025-09-03T06:00:00",
          "2025-09-03T06:30:00",
          "2025-09-03T07:00:00",
          "2025-09-03T07:30:00",
          "2025-09-03T08:00:00",
          "2025-09-03T08:30:00",
          "2025-09-03T09:00:00",
          "2025-09-03T09:30:00",
          "2025-09-03T10:00:00",
          "2025-09-03T10:30:00",
          "2025-09-03T11:00:00",
          "2025-09-03T11:30:00"
         ],
         "y": {
          "bdata": "AAAAAAAAAAAAAAAAAAAAAAAAAAAAAAADDA0PEhESGBUZFRgWHBscGBYVFBUTEQ8NDAwMBwYHBgYDAgQDAwQEBAcFCQkMCg0ODw8QExQVGBcXFhoZGRocFBcXFxYUFA8PDAsICwcGBQQDAwMCAwQFBgYICAcLCw0M",
          "dtype": "i1"
         },
         "yaxis": "y2"
        }
       ],
       "layout": {
        "legend": {
         "x": 0.01,
         "y": 0.98
        },
        "template": {
         "data": {
          "bar": [
           {
            "error_x": {
             "color": "#2a3f5f"
            },
            "error_y": {
             "color": "#2a3f5f"
            },
            "marker": {
             "line": {
              "color": "white",
              "width": 0.5
             },
             "pattern": {
              "fillmode": "overlay",
              "size": 10,
              "solidity": 0.2
             }
            },
            "type": "bar"
           }
          ],
          "barpolar": [
           {
            "marker": {
             "line": {
              "color": "white",
              "width": 0.5
             },
             "pattern": {
              "fillmode": "overlay",
              "size": 10,
              "solidity": 0.2
             }
            },
            "type": "barpolar"
           }
          ],
          "carpet": [
           {
            "aaxis": {
             "endlinecolor": "#2a3f5f",
             "gridcolor": "#C8D4E3",
             "linecolor": "#C8D4E3",
             "minorgridcolor": "#C8D4E3",
             "startlinecolor": "#2a3f5f"
            },
            "baxis": {
             "endlinecolor": "#2a3f5f",
             "gridcolor": "#C8D4E3",
             "linecolor": "#C8D4E3",
             "minorgridcolor": "#C8D4E3",
             "startlinecolor": "#2a3f5f"
            },
            "type": "carpet"
           }
          ],
          "choropleth": [
           {
            "colorbar": {
             "outlinewidth": 0,
             "ticks": ""
            },
            "type": "choropleth"
           }
          ],
          "contour": [
           {
            "colorbar": {
             "outlinewidth": 0,
             "ticks": ""
            },
            "colorscale": [
             [
              0,
              "#0d0887"
             ],
             [
              0.1111111111111111,
              "#46039f"
             ],
             [
              0.2222222222222222,
              "#7201a8"
             ],
             [
              0.3333333333333333,
              "#9c179e"
             ],
             [
              0.4444444444444444,
              "#bd3786"
             ],
             [
              0.5555555555555556,
              "#d8576b"
             ],
             [
              0.6666666666666666,
              "#ed7953"
             ],
             [
              0.7777777777777778,
              "#fb9f3a"
             ],
             [
              0.8888888888888888,
              "#fdca26"
             ],
             [
              1,
              "#f0f921"
             ]
            ],
            "type": "contour"
           }
          ],
          "contourcarpet": [
           {
            "colorbar": {
             "outlinewidth": 0,
             "ticks": ""
            },
            "type": "contourcarpet"
           }
          ],
          "heatmap": [
           {
            "colorbar": {
             "outlinewidth": 0,
             "ticks": ""
            },
            "colorscale": [
             [
              0,
              "#0d0887"
             ],
             [
              0.1111111111111111,
              "#46039f"
             ],
             [
              0.2222222222222222,
              "#7201a8"
             ],
             [
              0.3333333333333333,
              "#9c179e"
             ],
             [
              0.4444444444444444,
              "#bd3786"
             ],
             [
              0.5555555555555556,
              "#d8576b"
             ],
             [
              0.6666666666666666,
              "#ed7953"
             ],
             [
              0.7777777777777778,
              "#fb9f3a"
             ],
             [
              0.8888888888888888,
              "#fdca26"
             ],
             [
              1,
              "#f0f921"
             ]
            ],
            "type": "heatmap"
           }
          ],
          "histogram": [
           {
            "marker": {
             "pattern": {
              "fillmode": "overlay",
              "size": 10,
              "solidity": 0.2
             }
            },
            "type": "histogram"
           }
          ],
          "histogram2d": [
           {
            "colorbar": {
             "outlinewidth": 0,
             "ticks": ""
            },
            "colorscale": [
             [
              0,
              "#0d0887"
             ],
             [
              0.1111111111111111,
              "#46039f"
             ],
             [
              0.2222222222222222,
              "#7201a8"
             ],
             [
              0.3333333333333333,
              "#9c179e"
             ],
             [
              0.4444444444444444,
              "#bd3786"
             ],
             [
              0.5555555555555556,
              "#d8576b"
             ],
             [
              0.6666666666666666,
              "#ed7953"
             ],
             [
              0.7777777777777778,
              "#fb9f3a"
             ],
             [
              0.8888888888888888,
              "#fdca26"
             ],
             [
              1,
              "#f0f921"
             ]
            ],
            "type": "histogram2d"
           }
          ],
          "histogram2dcontour": [
           {
            "colorbar": {
             "outlinewidth": 0,
             "ticks": ""
            },
            "colorscale": [
             [
              0,
              "#0d0887"
             ],
             [
              0.1111111111111111,
              "#46039f"
             ],
             [
              0.2222222222222222,
              "#7201a8"
             ],
             [
              0.3333333333333333,
              "#9c179e"
             ],
             [
              0.4444444444444444,
              "#bd3786"
             ],
             [
              0.5555555555555556,
              "#d8576b"
             ],
             [
              0.6666666666666666,
              "#ed7953"
             ],
             [
              0.7777777777777778,
              "#fb9f3a"
             ],
             [
              0.8888888888888888,
              "#fdca26"
             ],
             [
              1,
              "#f0f921"
             ]
            ],
            "type": "histogram2dcontour"
           }
          ],
          "mesh3d": [
           {
            "colorbar": {
             "outlinewidth": 0,
             "ticks": ""
            },
            "type": "mesh3d"
           }
          ],
          "parcoords": [
           {
            "line": {
             "colorbar": {
              "outlinewidth": 0,
              "ticks": ""
             }
            },
            "type": "parcoords"
           }
          ],
          "pie": [
           {
            "automargin": true,
            "type": "pie"
           }
          ],
          "scatter": [
           {
            "fillpattern": {
             "fillmode": "overlay",
             "size": 10,
             "solidity": 0.2
            },
            "type": "scatter"
           }
          ],
          "scatter3d": [
           {
            "line": {
             "colorbar": {
              "outlinewidth": 0,
              "ticks": ""
             }
            },
            "marker": {
             "colorbar": {
              "outlinewidth": 0,
              "ticks": ""
             }
            },
            "type": "scatter3d"
           }
          ],
          "scattercarpet": [
           {
            "marker": {
             "colorbar": {
              "outlinewidth": 0,
              "ticks": ""
             }
            },
            "type": "scattercarpet"
           }
          ],
          "scattergeo": [
           {
            "marker": {
             "colorbar": {
              "outlinewidth": 0,
              "ticks": ""
             }
            },
            "type": "scattergeo"
           }
          ],
          "scattergl": [
           {
            "marker": {
             "colorbar": {
              "outlinewidth": 0,
              "ticks": ""
             }
            },
            "type": "scattergl"
           }
          ],
          "scattermap": [
           {
            "marker": {
             "colorbar": {
              "outlinewidth": 0,
              "ticks": ""
             }
            },
            "type": "scattermap"
           }
          ],
          "scattermapbox": [
           {
            "marker": {
             "colorbar": {
              "outlinewidth": 0,
              "ticks": ""
             }
            },
            "type": "scattermapbox"
           }
          ],
          "scatterpolar": [
           {
            "marker": {
             "colorbar": {
              "outlinewidth": 0,
              "ticks": ""
             }
            },
            "type": "scatterpolar"
           }
          ],
          "scatterpolargl": [
           {
            "marker": {
             "colorbar": {
              "outlinewidth": 0,
              "ticks": ""
             }
            },
            "type": "scatterpolargl"
           }
          ],
          "scatterternary": [
           {
            "marker": {
             "colorbar": {
              "outlinewidth": 0,
              "ticks": ""
             }
            },
            "type": "scatterternary"
           }
          ],
          "surface": [
           {
            "colorbar": {
             "outlinewidth": 0,
             "ticks": ""
            },
            "colorscale": [
             [
              0,
              "#0d0887"
             ],
             [
              0.1111111111111111,
              "#46039f"
             ],
             [
              0.2222222222222222,
              "#7201a8"
             ],
             [
              0.3333333333333333,
              "#9c179e"
             ],
             [
              0.4444444444444444,
              "#bd3786"
             ],
             [
              0.5555555555555556,
              "#d8576b"
             ],
             [
              0.6666666666666666,
              "#ed7953"
             ],
             [
              0.7777777777777778,
              "#fb9f3a"
             ],
             [
              0.8888888888888888,
              "#fdca26"
             ],
             [
              1,
              "#f0f921"
             ]
            ],
            "type": "surface"
           }
          ],
          "table": [
           {
            "cells": {
             "fill": {
              "color": "#EBF0F8"
             },
             "line": {
              "color": "white"
             }
            },
            "header": {
             "fill": {
              "color": "#C8D4E3"
             },
             "line": {
              "color": "white"
             }
            },
            "type": "table"
           }
          ]
         },
         "layout": {
          "annotationdefaults": {
           "arrowcolor": "#2a3f5f",
           "arrowhead": 0,
           "arrowwidth": 1
          },
          "autotypenumbers": "strict",
          "coloraxis": {
           "colorbar": {
            "outlinewidth": 0,
            "ticks": ""
           }
          },
          "colorscale": {
           "diverging": [
            [
             0,
             "#8e0152"
            ],
            [
             0.1,
             "#c51b7d"
            ],
            [
             0.2,
             "#de77ae"
            ],
            [
             0.3,
             "#f1b6da"
            ],
            [
             0.4,
             "#fde0ef"
            ],
            [
             0.5,
             "#f7f7f7"
            ],
            [
             0.6,
             "#e6f5d0"
            ],
            [
             0.7,
             "#b8e186"
            ],
            [
             0.8,
             "#7fbc41"
            ],
            [
             0.9,
             "#4d9221"
            ],
            [
             1,
             "#276419"
            ]
           ],
           "sequential": [
            [
             0,
             "#0d0887"
            ],
            [
             0.1111111111111111,
             "#46039f"
            ],
            [
             0.2222222222222222,
             "#7201a8"
            ],
            [
             0.3333333333333333,
             "#9c179e"
            ],
            [
             0.4444444444444444,
             "#bd3786"
            ],
            [
             0.5555555555555556,
             "#d8576b"
            ],
            [
             0.6666666666666666,
             "#ed7953"
            ],
            [
             0.7777777777777778,
             "#fb9f3a"
            ],
            [
             0.8888888888888888,
             "#fdca26"
            ],
            [
             1,
             "#f0f921"
            ]
           ],
           "sequentialminus": [
            [
             0,
             "#0d0887"
            ],
            [
             0.1111111111111111,
             "#46039f"
            ],
            [
             0.2222222222222222,
             "#7201a8"
            ],
            [
             0.3333333333333333,
             "#9c179e"
            ],
            [
             0.4444444444444444,
             "#bd3786"
            ],
            [
             0.5555555555555556,
             "#d8576b"
            ],
            [
             0.6666666666666666,
             "#ed7953"
            ],
            [
             0.7777777777777778,
             "#fb9f3a"
            ],
            [
             0.8888888888888888,
             "#fdca26"
            ],
            [
             1,
             "#f0f921"
            ]
           ]
          },
          "colorway": [
           "#636efa",
           "#EF553B",
           "#00cc96",
           "#ab63fa",
           "#FFA15A",
           "#19d3f3",
           "#FF6692",
           "#B6E880",
           "#FF97FF",
           "#FECB52"
          ],
          "font": {
           "color": "#2a3f5f"
          },
          "geo": {
           "bgcolor": "white",
           "lakecolor": "white",
           "landcolor": "white",
           "showlakes": true,
           "showland": true,
           "subunitcolor": "#C8D4E3"
          },
          "hoverlabel": {
           "align": "left"
          },
          "hovermode": "closest",
          "mapbox": {
           "style": "light"
          },
          "paper_bgcolor": "white",
          "plot_bgcolor": "white",
          "polar": {
           "angularaxis": {
            "gridcolor": "#EBF0F8",
            "linecolor": "#EBF0F8",
            "ticks": ""
           },
           "bgcolor": "white",
           "radialaxis": {
            "gridcolor": "#EBF0F8",
            "linecolor": "#EBF0F8",
            "ticks": ""
           }
          },
          "scene": {
           "xaxis": {
            "backgroundcolor": "white",
            "gridcolor": "#DFE8F3",
            "gridwidth": 2,
            "linecolor": "#EBF0F8",
            "showbackground": true,
            "ticks": "",
            "zerolinecolor": "#EBF0F8"
           },
           "yaxis": {
            "backgroundcolor": "white",
            "gridcolor": "#DFE8F3",
            "gridwidth": 2,
            "linecolor": "#EBF0F8",
            "showbackground": true,
            "ticks": "",
            "zerolinecolor": "#EBF0F8"
           },
           "zaxis": {
            "backgroundcolor": "white",
            "gridcolor": "#DFE8F3",
            "gridwidth": 2,
            "linecolor": "#EBF0F8",
            "showbackground": true,
            "ticks": "",
            "zerolinecolor": "#EBF0F8"
           }
          },
          "shapedefaults": {
           "line": {
            "color": "#2a3f5f"
           }
          },
          "ternary": {
           "aaxis": {
            "gridcolor": "#DFE8F3",
            "linecolor": "#A2B1C6",
            "ticks": ""
           },
           "baxis": {
            "gridcolor": "#DFE8F3",
            "linecolor": "#A2B1C6",
            "ticks": ""
           },
           "bgcolor": "white",
           "caxis": {
            "gridcolor": "#DFE8F3",
            "linecolor": "#A2B1C6",
            "ticks": ""
           }
          },
          "title": {
           "x": 0.05
          },
          "xaxis": {
           "automargin": true,
           "gridcolor": "#EBF0F8",
           "linecolor": "#EBF0F8",
           "ticks": "",
           "title": {
            "standoff": 15
           },
           "zerolinecolor": "#EBF0F8",
           "zerolinewidth": 2
          },
          "yaxis": {
           "automargin": true,
           "gridcolor": "#EBF0F8",
           "linecolor": "#EBF0F8",
           "ticks": "",
           "title": {
            "standoff": 15
           },
           "zerolinecolor": "#EBF0F8",
           "zerolinewidth": 2
          }
         }
        },
        "title": {
         "text": "Planeamento de Capacidade: Fluxo de Propostas vs. Analistas Necessários (5 min)"
        },
        "xaxis": {
         "dtick": 7200000,
         "tickformat": "%d/%m\n%Hh",
         "tickmode": "linear",
         "title": {
          "text": "Data e Hora"
         }
        },
        "yaxis": {
         "title": {
          "text": "Número de Propostas"
         }
        },
        "yaxis2": {
         "overlaying": "y",
         "range": [
          0,
          33.6
         ],
         "showgrid": false,
         "side": "right",
         "title": {
          "text": "Nº de Analistas Necessários"
         }
        }
       }
      }
     },
     "metadata": {},
     "output_type": "display_data"
    }
   ],
   "source": [
    "TMA_MINUTOS = 5 # Definindo o TMA de forma clara aqui\n",
    "\n",
    "# --- 2. Preparação dos dados (COM CÁLCULO DE ANALISTAS) ---\n",
    "df_propostas['data_entrada'] = pd.to_datetime(df_propostas['data_entrada'])\n",
    "df_propostas['data_sla'] = df_propostas['data_entrada'] + pd.Timedelta(hours=12)\n",
    "df_propostas['data_inicio_limite'] = df_propostas['data_sla'] - pd.Timedelta(minutes=TMA_MINUTOS)\n",
    "\n",
    "entradas_por_hora = df_propostas.groupby(pd.Grouper(key='data_entrada', freq='30min')).size().rename('entradas')\n",
    "inicio_propostas_tma = df_propostas.groupby(pd.Grouper(key='data_inicio_limite', freq='30min')).size().rename('inicio_limite')\n",
    "vencimentos_por_hora = df_propostas.groupby(pd.Grouper(key='data_sla', freq='30min')).size().rename('vencimentos_sla')\n",
    "\n",
    "df_analise = pd.concat([entradas_por_hora, inicio_propostas_tma, vencimentos_por_hora], axis=1).fillna(0)\n",
    "\n",
    "# PASSO NOVO: Calcular o número de analistas necessários\n",
    "# A função lambda aplica o cálculo a cada valor da coluna 'inicio_limite'\n",
    "df_analise['analistas_necessarios'] = df_analise['inicio_limite'].apply(\n",
    "    lambda x: math.ceil((x * TMA_MINUTOS) / 30)\n",
    ")\n",
    "print(\"Tabela de análise final com necessidade de analistas:\")\n",
    "\n",
    "# --- 3. Geração do Gráfico Final (com Hover Personalizado) ---\n",
    "print(\"A gerar o gráfico final com hover de 5 minutos...\")\n",
    "fig = go.Figure()\n",
    "\n",
    "# Camada 1: ÁREA DE ENTRADAS\n",
    "fig.add_trace(go.Scatter(\n",
    "    name='Entradas', \n",
    "    x=df_analise.index, \n",
    "    y=df_analise['entradas'], \n",
    "    fill='tozeroy', \n",
    "    fillcolor='rgba(24, 102, 215, 0.4)', \n",
    "    line_width=0.5,\n",
    "    hovertemplate='<b>%{x|%d/%m %H:%M}</b><br>Entradas: %{y}<extra></extra>'\n",
    "))\n",
    "\n",
    "# Camada 2: ÁREA DE VENCIMENTOS\n",
    "fig.add_trace(go.Scatter(\n",
    "    name='Vencimento SLA', \n",
    "    x=df_analise.index, \n",
    "    y=df_analise['vencimentos_sla'], \n",
    "    fill='tozeroy', \n",
    "    fillcolor='rgba(220, 20, 60, 0.3)', \n",
    "    line_width=0.5,\n",
    "    hovertemplate='<b>%{x|%d/%m %H:%M}</b><br>Vencimentos: %{y}<extra></extra>'\n",
    "))\n",
    "\n",
    "# Camada 3: LINHA DE AÇÃO\n",
    "fig.add_trace(go.Scatter(\n",
    "    name='AÇÃO: Início Limite', \n",
    "    x=df_analise.index, \n",
    "    y=df_analise['inicio_limite'], \n",
    "    line=dict(width=3.5, color='darkorange'),\n",
    "    hovertemplate='<b>%{x|%d/%m %H:%M}</b><br>Início Limite: %{y}<extra></extra>'\n",
    "))\n",
    "\n",
    "# Camada 4: LINHA DE BOLINHAS PARA ANALISTAS\n",
    "fig.add_trace(go.Scatter(\n",
    "    x=df_analise.index,\n",
    "    y=df_analise['analistas_necessarios'],\n",
    "    name='Analistas Necessários',\n",
    "    mode='lines+markers',\n",
    "    line=dict(color='green', width=2, dash='dot'),\n",
    "    marker=dict(size=8),\n",
    "    yaxis='y2',\n",
    "    hovertemplate='<b>%{x|%d/%m %H:%M}</b><br>Analistas: %{y}<extra></extra>'\n",
    "))\n",
    "\n",
    "# Configura o layout (sem alterações aqui)\n",
    "fig.update_layout(\n",
    "    title='Planeamento de Capacidade: Fluxo de Propostas vs. Analistas Necessários (5 min)',\n",
    "    xaxis_title='Data e Hora',\n",
    "    template='plotly_white',\n",
    "    legend=dict(x=0.01, y=0.98),\n",
    "    yaxis=dict(title='Número de Propostas'),\n",
    "    yaxis2=dict(\n",
    "        title='Nº de Analistas Necessários',\n",
    "        overlaying='y',\n",
    "        side='right',\n",
    "        showgrid=False,\n",
    "        range=[0, df_analise['analistas_necessarios'].max() * 1.2]\n",
    "    ),\n",
    "    xaxis=dict(dtick=1000 * 60 * 60 * 2, tickformat='%d/%m\\n%Hh', tickmode='linear')\n",
    ")\n",
    "\n",
    "fig.show()"
   ]
  },
  {
   "cell_type": "code",
   "execution_count": null,
   "id": "6ef7ed82",
   "metadata": {},
   "outputs": [
    {
     "name": "stdout",
     "output_type": "stream",
     "text": [
      "A simular dados de entrada...\n",
      "Total de 7864 propostas simuladas.\n",
      "A preparar dados para o KDE...\n",
      "Exemplo dos dados reestruturados (formato longo):\n",
      "    Evento  Minuto\n",
      "0  Entrada      30\n",
      "1  Entrada      55\n",
      "2  Entrada      11\n",
      "3  Entrada       6\n",
      "4  Entrada      36\n",
      "A gerar o gráfico de densidade (KDE)...\n"
     ]
    },
    {
     "data": {
      "image/png": "[encoded data removed]",
      "text/plain": [
       "<Figure size 1600x700 with 1 Axes>"
      ]
     },
     "metadata": {},
     "output_type": "display_data"
    }
   ],
   "source": [
    "import pandas as pd\n",
    "import numpy as np\n",
    "import seaborn as sns\n",
    "import matplotlib.pyplot as plt\n",
    "\n",
    "# --- 1. Simulação de Dados (sem alterações) ---\n",
    "# (Pode reutilizar o df_propostas gerado no passo anterior ou executar novamente)\n",
    "\n",
    "TMA_MINUTOS = 5 # Usando 5 minutos como no seu exemplo anterior\n",
    "\n",
    "def simular_chegada_propostas(dias=2):\n",
    "    print(\"A simular dados de entrada...\")\n",
    "    total_horas = dias * 24\n",
    "    datas = pd.to_datetime(pd.date_range(start='2025-09-01 00:00:00', periods=total_horas, freq='h'))\n",
    "    probabilidade_chegada = np.sin(np.linspace(0, 2 * np.pi, 24)) * 0.5 + 0.6\n",
    "    probabilidade_chegada = np.tile(probabilidade_chegada, dias)\n",
    "    num_propostas_por_hora = np.random.poisson(probabilidade_chegada * 270)\n",
    "    lista_propostas = []\n",
    "    for data, num_propostas in zip(datas, num_propostas_por_hora):\n",
    "        for _ in range(num_propostas):\n",
    "            minuto_aleatorio = np.random.randint(0, 60)\n",
    "            segundo_aleatorio = np.random.randint(0, 60)\n",
    "            timestamp_proposta = data + pd.Timedelta(minutes=minuto_aleatorio, seconds=segundo_aleatorio)\n",
    "            lista_propostas.append({'data_entrada': timestamp_proposta})\n",
    "    df = pd.DataFrame(lista_propostas)\n",
    "    print(f\"Total de {len(df)} propostas simuladas.\")\n",
    "    return df\n",
    "\n",
    "df_propostas = simular_chegada_propostas(dias=2)\n",
    "\n",
    "# --- 2. Preparação dos dados para o KDE Múltiplo ---\n",
    "print(\"A preparar dados para o KDE...\")\n",
    "# Passo 2.1: Calcular todas as colunas de data\n",
    "df_propostas['data_entrada'] = pd.to_datetime(df_propostas['data_entrada'])\n",
    "df_propostas['data_sla'] = df_propostas['data_entrada'] + pd.Timedelta(hours=12)\n",
    "df_propostas['data_inicio_limite'] = df_propostas['data_sla'] - pd.Timedelta(minutes=TMA_MINUTOS)\n",
    "\n",
    "# Passo 2.2: Converter cada data para o \"minuto do dia\" (0-1439)\n",
    "df_propostas['Entrada'] = df_propostas['data_entrada'].dt.hour * 60 + df_propostas['data_entrada'].dt.minute\n",
    "df_propostas['Vencimento SLA'] = df_propostas['data_sla'].dt.hour * 60 + df_propostas['data_sla'].dt.minute\n",
    "df_propostas['Início Limite'] = df_propostas['data_inicio_limite'].dt.hour * 60 + df_propostas['data_inicio_limite'].dt.minute\n",
    "\n",
    "# Passo 2.3: Reestruturar (Melt) os dados para o formato \"longo\"\n",
    "# Isto é ideal para o seaborn: uma coluna identifica o evento, outra o valor.\n",
    "df_melted = pd.melt(\n",
    "    df_propostas,\n",
    "    value_vars=['Entrada', 'Vencimento SLA', 'Início Limite'], # Colunas a transformar em linhas\n",
    "    var_name='Evento', # Nome da nova coluna que armazena os nomes das antigas colunas\n",
    "    value_name='Minuto' # Nome da nova coluna que armazena os valores\n",
    ")\n",
    "\n",
    "print(\"Exemplo dos dados reestruturados (formato longo):\")\n",
    "print(df_melted.head())\n",
    "\n",
    "# --- 3. Geração do Gráfico KDE ---\n",
    "print(\"A gerar o gráfico de densidade (KDE)...\")\n",
    "\n",
    "plt.figure(figsize=(16, 7))\n",
    "ax = sns.kdeplot(\n",
    "    data=df_melted,\n",
    "    x='Minuto',\n",
    "    hue='Evento', # Cria uma curva para cada categoria na coluna 'Evento'\n",
    "    fill=True,\n",
    "    common_norm=False, # Garante que cada curva é normalizada independentemente\n",
    "    alpha=0.3, # Nível de transparência das áreas\n",
    "    linewidth=2.5,\n",
    "    bw_adjust=0.5\n",
    ")\n",
    "\n",
    "# --- 4. Formatação e Melhoria do Gráfico ---\n",
    "ax.set_title('Densidade dos Eventos de Proposta ao Longo do Dia (KDE)', fontsize=16)\n",
    "ax.set_xlabel('Hora do Dia', fontsize=12)\n",
    "ax.set_ylabel('Densidade de Probabilidade', fontsize=12)\n",
    "\n",
    "# Melhora os marcadores do eixo X para mostrar as horas\n",
    "horas = range(0, 25, 2) # Marcas a cada 2 horas\n",
    "ax.set_xticks([h * 60 for h in horas])\n",
    "ax.set_xticklabels([f'{h:02d}:00' for h in horas])\n",
    "ax.grid(linestyle='--', alpha=0.6)\n",
    "\n",
    "plt.tight_layout()\n",
    "plt.show()"
   ]
  },
  {
   "cell_type": "code",
   "execution_count": null,
   "id": "4de2b6a7",
   "metadata": {},
   "outputs": [],
   "source": [
    "# --- 4. Criação do Gráfico (CÓDIGO MODIFICADO) ---\n",
    "# Objetivo: Criar um gráfico com área para entradas e linhas para as métricas de ação.\n",
    "\n",
    "print(\"A gerar o novo gráfico de área...\")\n",
    "fig, ax = plt.subplots(figsize=(20, 8))\n",
    "\n",
    "# Plotar as entradas como uma ÁREA PREENCHIDA\n",
    "ax.fill_between(df_analise.index, df_analise['entradas'], color=\"skyblue\", alpha=0.4, label='Fluxo de Entrada de Propostas (Volume)')\n",
    "\n",
    "# Plotar as métricas de ação como LINHAS por cima da área\n",
    "ax.plot(df_analise.index, df_analise['vencimento_sla'], color='red', marker='o', linestyle=':', markersize=5, label='Vencimento do SLA (Risco Final)')\n",
    "ax.plot(df_analise.index, df_analise['inicio_limite'], color='darkorange', marker='', linestyle='-', linewidth=2.5, label=f'Ação Requerida: Início Limite (SLA - {TMA_MINUTOS} min)')\n",
    "\n",
    "# --- Destaque do Horário de Operação (7:00 às 22:00) ---\n",
    "for data in df_analise.index:\n",
    "    if 7 <= data.hour < 22:\n",
    "        ax.axvspan(data, data + pd.Timedelta(hours=1), facecolor='green', alpha=0.1, zorder=0)\n",
    "\n",
    "# Formatação e legendas\n",
    "ax.set_title('Análise de Fluxo de Trabalho e Pressão Operacional (48 Horas)', fontsize=16)\n",
    "ax.set_xlabel('Data e Hora', fontsize=12)\n",
    "ax.set_ylabel('Número de Propostas', fontsize=12)\n",
    "ax.legend(loc='upper left')\n",
    "ax.grid(True, which='both', linestyle='--', linewidth=0.5)\n",
    "\n",
    "# Melhorar a visualização do eixo Y, começando em zero\n",
    "ax.set_ylim(bottom=0)\n",
    "\n",
    "# Formatação do eixo X\n",
    "ax.xaxis.set_major_locator(mdates.HourLocator(interval=3))\n",
    "ax.xaxis.set_major_formatter(mdates.DateFormatter('%d/%m %H:%M'))\n",
    "plt.xticks(rotation=45, ha='right')\n",
    "\n",
    "plt.tight_layout()\n",
    "plt.show()"
   ]
  }
 ],
 "metadata": {
  "kernelspec": {
   "display_name": "Python 3",
   "language": "python",
   "name": "python3"
  },
  "language_info": {
   "codemirror_mode": {
    "name": "ipython",
    "version": 3
   },
   "file_extension": ".py",
   "mimetype": "text/x-python",
   "name": "python",
   "nbconvert_exporter": "python",
   "pygments_lexer": "ipython3",
   "version": "3.13.3"
  }
 },
 "nbformat": 4,
 "nbformat_minor": 5
}
